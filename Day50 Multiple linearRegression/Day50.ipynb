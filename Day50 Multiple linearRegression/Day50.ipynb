{
 "cells": [
  {
   "cell_type": "code",
   "execution_count": 1,
   "id": "1faa944b-1f68-439a-aa86-685a7ac6472d",
   "metadata": {},
   "outputs": [],
   "source": [
    "#demo\n",
    "from sklearn.datasets import make_regression\n",
    "import pandas as pd\n",
    "import numpy as np\n",
    "\n",
    "import plotly.express as px\n",
    "import plotly.graph_objects as go\n",
    "\n",
    "from sklearn.metrics import mean_absolute_error,mean_squared_error,r2_score\n",
    "\n"
   ]
  },
  {
   "cell_type": "code",
   "execution_count": 2,
   "id": "762ec6e5-771c-439c-88f8-b6f09e3f5ce4",
   "metadata": {},
   "outputs": [],
   "source": [
    "X,y = make_regression(n_samples=100, n_features=2, n_informative=2, n_targets=1, noise=50)\n"
   ]
  },
  {
   "cell_type": "code",
   "execution_count": 3,
   "id": "d300a604-e872-4637-9f3b-0c61bd516ee3",
   "metadata": {},
   "outputs": [],
   "source": [
    "df = pd.DataFrame({'feature1':X[:,0],'feature2':X[:,1],'target':y})\n"
   ]
  },
  {
   "cell_type": "code",
   "execution_count": 4,
   "id": "962f1d9a-ffcd-4166-a73e-500292663d47",
   "metadata": {},
   "outputs": [
    {
     "data": {
      "text/html": [
       "<div>\n",
       "<style scoped>\n",
       "    .dataframe tbody tr th:only-of-type {\n",
       "        vertical-align: middle;\n",
       "    }\n",
       "\n",
       "    .dataframe tbody tr th {\n",
       "        vertical-align: top;\n",
       "    }\n",
       "\n",
       "    .dataframe thead th {\n",
       "        text-align: right;\n",
       "    }\n",
       "</style>\n",
       "<table border=\"1\" class=\"dataframe\">\n",
       "  <thead>\n",
       "    <tr style=\"text-align: right;\">\n",
       "      <th></th>\n",
       "      <th>feature1</th>\n",
       "      <th>feature2</th>\n",
       "      <th>target</th>\n",
       "    </tr>\n",
       "  </thead>\n",
       "  <tbody>\n",
       "    <tr>\n",
       "      <th>0</th>\n",
       "      <td>0.100025</td>\n",
       "      <td>0.750458</td>\n",
       "      <td>20.592631</td>\n",
       "    </tr>\n",
       "    <tr>\n",
       "      <th>1</th>\n",
       "      <td>0.737033</td>\n",
       "      <td>-0.654747</td>\n",
       "      <td>10.331298</td>\n",
       "    </tr>\n",
       "    <tr>\n",
       "      <th>2</th>\n",
       "      <td>0.749081</td>\n",
       "      <td>0.613746</td>\n",
       "      <td>155.845800</td>\n",
       "    </tr>\n",
       "    <tr>\n",
       "      <th>3</th>\n",
       "      <td>-0.059180</td>\n",
       "      <td>-0.450410</td>\n",
       "      <td>-76.904033</td>\n",
       "    </tr>\n",
       "    <tr>\n",
       "      <th>4</th>\n",
       "      <td>1.568885</td>\n",
       "      <td>-0.913903</td>\n",
       "      <td>-1.616747</td>\n",
       "    </tr>\n",
       "  </tbody>\n",
       "</table>\n",
       "</div>"
      ],
      "text/plain": [
       "   feature1  feature2      target\n",
       "0  0.100025  0.750458   20.592631\n",
       "1  0.737033 -0.654747   10.331298\n",
       "2  0.749081  0.613746  155.845800\n",
       "3 -0.059180 -0.450410  -76.904033\n",
       "4  1.568885 -0.913903   -1.616747"
      ]
     },
     "execution_count": 4,
     "metadata": {},
     "output_type": "execute_result"
    }
   ],
   "source": [
    "df.head()"
   ]
  },
  {
   "cell_type": "code",
   "execution_count": 5,
   "id": "7b7f6525-f900-485b-a501-5c70d6625533",
   "metadata": {},
   "outputs": [
    {
     "data": {
      "text/plain": [
       "(100, 3)"
      ]
     },
     "execution_count": 5,
     "metadata": {},
     "output_type": "execute_result"
    }
   ],
   "source": [
    "df.shape"
   ]
  },
  {
   "cell_type": "code",
   "execution_count": 8,
   "id": "80ca85f7-9000-4d31-9d2b-c9075023bc50",
   "metadata": {},
   "outputs": [
    {
     "data": {
      "application/vnd.plotly.v1+json": {
       "config": {
        "plotlyServerURL": "https://plot.ly"
       },
       "data": [
        {
         "hovertemplate": "feature1=%{x}<br>feature2=%{y}<br>target=%{z}<extra></extra>",
         "legendgroup": "",
         "marker": {
          "color": "#636efa",
          "symbol": "circle"
         },
         "mode": "markers",
         "name": "",
         "scene": "scene",
         "showlegend": false,
         "type": "scatter3d",
         "x": [
          0.10002466486231301,
          0.7370334735696612,
          0.7490811515763292,
          -0.05918017464758382,
          1.5688848551883638,
          0.0019086683218046338,
          0.7453265395242933,
          -0.5212844656692234,
          0.9681545368588906,
          -0.2650755646556446,
          0.9076415562832878,
          2.3542107213680485,
          -0.06717811877734468,
          -0.33861277357478053,
          0.7058928367970676,
          -2.7341930913886077,
          0.7861656633770086,
          0.45730757217323453,
          -0.45461255474075934,
          1.978053470411741,
          -3.641060577551044,
          1.674364630769335,
          0.3107972553496606,
          -0.8161757060615782,
          1.1426945689892911,
          0.4660275569154945,
          1.1385453241841608,
          0.12669169587717435,
          -2.2712820476686293,
          -0.33210578799358204,
          -0.7200223243023882,
          -0.6325190937983713,
          0.5078314592207261,
          0.5160642625152788,
          -0.20704643328983707,
          0.11903746830894202,
          0.26668340228019083,
          -0.6303581838371634,
          0.3829351431581874,
          1.235904472609663,
          -0.4402289133076698,
          -0.9027698796708689,
          0.008566561636746801,
          -0.10696731584875815,
          0.5960707271229325,
          0.7553634913110876,
          -1.5429367390894388,
          -0.7687354431506201,
          0.6399700333705545,
          0.7577183309820055,
          -0.6044248980322624,
          -1.483970342223675,
          0.26772893589546165,
          0.012496783061049978,
          0.8752361061750701,
          0.14429814483588865,
          0.5226018118200103,
          -1.006866687936048,
          -1.1103738444386975,
          0.18352858039769696,
          -1.480249231822065,
          -0.28429674235932073,
          0.22376524530619935,
          -0.1964801239013066,
          0.5886016568259332,
          0.8655102279325004,
          -0.43635088679825357,
          -2.029546346981814,
          -0.36731924152954903,
          0.6684349515110155,
          1.3711184085753265,
          -0.3220289069576444,
          0.3806401927611005,
          2.002108317305951,
          -0.36706049209408964,
          1.3750206219339447,
          -0.2637011350319687,
          1.2425641409200643,
          -1.0671179801863253,
          0.11582268949960879,
          -0.059390480346913195,
          -0.6708254832960233,
          -0.6957688006684838,
          0.32164552398311963,
          -0.7036412125441772,
          2.4315344336993845,
          -0.4774682545085541,
          0.6561272446000316,
          -0.698265404973852,
          0.8478395033765596,
          -0.420977803441137,
          0.33764192191285824,
          0.8121695401364278,
          -0.6080559682348234,
          -0.9927583595425163,
          0.34846899493334804,
          -0.7434041097324414,
          0.5525858547117498,
          -1.3429557779592693,
          -0.5303016593615473
         ],
         "y": [
          0.7504575452429996,
          -0.6547466979152433,
          0.6137457880627195,
          -0.45040988756762484,
          -0.9139025788049584,
          -0.5424925943243418,
          -0.7706593746127599,
          1.7384356197954725,
          -0.42444929104138157,
          -0.5924814687991995,
          -0.9591374097067019,
          -0.2836674032332486,
          0.7373176084511782,
          0.46022734717381536,
          0.42439530165855444,
          1.745233695663283,
          2.163583281719818,
          0.9798234098368372,
          -0.9073086175822689,
          -1.7718087911791636,
          -0.34573584620927195,
          1.0005854154624818,
          -1.723990038653871,
          -0.5329527820522756,
          -0.4247926595664567,
          0.5803760147562634,
          -0.6283305064181296,
          0.12514087900522167,
          -0.19498197362624906,
          0.5014954681480256,
          1.3228776706855774,
          0.677314914245078,
          -0.2602007632342747,
          1.0627306380409167,
          -2.159681186462957,
          0.2668376898039869,
          -0.06341833080450732,
          1.7366901636557706,
          -1.185599036366392,
          -0.6462517369657405,
          0.06005596766978464,
          0.8408814572823331,
          -1.1947664537513376,
          0.7486556829310943,
          1.9531333851045145,
          -1.0665778398947607,
          -0.7685563623327784,
          -0.9175832023694881,
          -0.014853205517451003,
          -0.4168327740989296,
          0.7456897460115863,
          -0.28108230831837,
          1.6160081366295154,
          -0.5296295950875428,
          0.07728910260618843,
          0.29141526098425935,
          0.22379251129714306,
          -0.21368869783377634,
          1.670255699620357,
          1.1857194241410662,
          -0.31633067668700743,
          -1.5013391259448388,
          0.12675231161964207,
          0.15606888626146637,
          -1.3286912368942465,
          0.25635959506870093,
          1.7120298844893247,
          1.993195723257296,
          0.41636096799916295,
          -0.39590932907699034,
          -1.4429288594247507,
          0.25503719952918824,
          -0.8458963491122914,
          0.046859229423564804,
          0.03879756853209727,
          -0.6787186995030942,
          0.3221385827182774,
          0.8395569125863974,
          -0.026784006212477934,
          0.09701535041179064,
          0.18301102896186736,
          0.8866250188035745,
          -1.3025813021334542,
          -0.16529744917442282,
          -0.3708363093217664,
          -0.41123032849812724,
          -0.2001426458894086,
          -1.0514389155383148,
          -0.21028047514042247,
          -0.155528711403862,
          0.4529040701493943,
          0.37650793043249875,
          -0.287009970064455,
          1.9912107314578416,
          0.1747890991394867,
          0.49703656671461893,
          1.3275162041765236,
          0.9572509848439588,
          -0.7098014344875074,
          -1.272099630028364
         ],
         "z": [
          20.592630851225472,
          10.331297789633588,
          155.8458000535063,
          -76.90403299980096,
          -1.6167465835603092,
          -20.757463799844828,
          -29.330097134662783,
          85.8647720203469,
          30.340291137485394,
          -69.30533249773697,
          -73.77182792978131,
          69.22511575409816,
          95.49140417021535,
          52.82387665096881,
          -30.737843028209795,
          3.1357989626349188,
          79.75325991234926,
          -16.05792879965948,
          -94.47246687972714,
          -66.38710736875633,
          -217.6969779707433,
          204.1132518014751,
          -90.3300061688754,
          -69.9863298901284,
          130.30495151588582,
          -55.34313188825851,
          71.47875499288476,
          62.4369152182109,
          -29.163728698411333,
          -54.88907799893346,
          54.1519302386093,
          19.66424943589854,
          1.462530003735699,
          114.71055171782308,
          -184.13630845578396,
          50.85604136413296,
          77.76604254366913,
          48.01782623138088,
          -30.437159544181597,
          -14.117854531322909,
          -97.2219768909661,
          -32.17873770622906,
          -44.63623202416944,
          49.96328701836097,
          177.07465463653705,
          14.507669068558869,
          -145.8641512772807,
          -84.5675620365368,
          -118.0794124735186,
          -58.921391709020995,
          -31.77012307524585,
          -174.87457959730625,
          215.38855527127254,
          -115.12194203312733,
          152.07195016783447,
          -51.35983062460268,
          55.992680241700896,
          12.514109518953362,
          80.33704920875377,
          77.22932602099715,
          -57.638165857494855,
          -94.18603605418969,
          1.1443431373513597,
          -7.455779874606446,
          -101.10624672591513,
          25.518761323495873,
          47.828293429807715,
          71.41511531689116,
          53.34910236322348,
          -30.73150373336354,
          -97.07389169955707,
          -156.43394874968612,
          -136.98991627765352,
          184.69678805238271,
          -29.891911326208557,
          61.00617858010296,
          -10.521752565768342,
          180.7069051193925,
          -118.28014978759998,
          98.21555261421376,
          -8.94389616539434,
          22.53122371202754,
          -130.94467916865463,
          16.936481505565656,
          -47.844460170148565,
          74.28556765916146,
          -72.37901484035761,
          -43.63425281893334,
          -13.19336008230782,
          -26.11786174089907,
          -0.7740519961978194,
          102.03536892622856,
          -14.628370824876205,
          153.1765632891849,
          0.3711240778802427,
          -2.2815553498651866,
          178.55240631998052,
          130.38934894353244,
          -96.18304113094372,
          -62.79646921951811
         ]
        }
       ],
       "layout": {
        "autosize": true,
        "legend": {
         "tracegroupgap": 0
        },
        "margin": {
         "t": 60
        },
        "scene": {
         "aspectmode": "auto",
         "aspectratio": {
          "x": 1,
          "y": 1,
          "z": 1
         },
         "camera": {
          "center": {
           "x": 0,
           "y": 0,
           "z": 0
          },
          "eye": {
           "x": -0.0033284146353093173,
           "y": 0.233448983885445,
           "z": 0.03584593387610557
          },
          "projection": {
           "type": "perspective"
          },
          "up": {
           "x": 0,
           "y": 0,
           "z": 1
          }
         },
         "domain": {
          "x": [
           0,
           1
          ],
          "y": [
           0,
           1
          ]
         },
         "xaxis": {
          "title": {
           "text": "feature1"
          },
          "type": "linear"
         },
         "yaxis": {
          "title": {
           "text": "feature2"
          },
          "type": "linear"
         },
         "zaxis": {
          "title": {
           "text": "target"
          },
          "type": "linear"
         }
        },
        "template": {
         "data": {
          "bar": [
           {
            "error_x": {
             "color": "#2a3f5f"
            },
            "error_y": {
             "color": "#2a3f5f"
            },
            "marker": {
             "line": {
              "color": "#E5ECF6",
              "width": 0.5
             },
             "pattern": {
              "fillmode": "overlay",
              "size": 10,
              "solidity": 0.2
             }
            },
            "type": "bar"
           }
          ],
          "barpolar": [
           {
            "marker": {
             "line": {
              "color": "#E5ECF6",
              "width": 0.5
             },
             "pattern": {
              "fillmode": "overlay",
              "size": 10,
              "solidity": 0.2
             }
            },
            "type": "barpolar"
           }
          ],
          "carpet": [
           {
            "aaxis": {
             "endlinecolor": "#2a3f5f",
             "gridcolor": "white",
             "linecolor": "white",
             "minorgridcolor": "white",
             "startlinecolor": "#2a3f5f"
            },
            "baxis": {
             "endlinecolor": "#2a3f5f",
             "gridcolor": "white",
             "linecolor": "white",
             "minorgridcolor": "white",
             "startlinecolor": "#2a3f5f"
            },
            "type": "carpet"
           }
          ],
          "choropleth": [
           {
            "colorbar": {
             "outlinewidth": 0,
             "ticks": ""
            },
            "type": "choropleth"
           }
          ],
          "contour": [
           {
            "colorbar": {
             "outlinewidth": 0,
             "ticks": ""
            },
            "colorscale": [
             [
              0,
              "#0d0887"
             ],
             [
              0.1111111111111111,
              "#46039f"
             ],
             [
              0.2222222222222222,
              "#7201a8"
             ],
             [
              0.3333333333333333,
              "#9c179e"
             ],
             [
              0.4444444444444444,
              "#bd3786"
             ],
             [
              0.5555555555555556,
              "#d8576b"
             ],
             [
              0.6666666666666666,
              "#ed7953"
             ],
             [
              0.7777777777777778,
              "#fb9f3a"
             ],
             [
              0.8888888888888888,
              "#fdca26"
             ],
             [
              1,
              "#f0f921"
             ]
            ],
            "type": "contour"
           }
          ],
          "contourcarpet": [
           {
            "colorbar": {
             "outlinewidth": 0,
             "ticks": ""
            },
            "type": "contourcarpet"
           }
          ],
          "heatmap": [
           {
            "colorbar": {
             "outlinewidth": 0,
             "ticks": ""
            },
            "colorscale": [
             [
              0,
              "#0d0887"
             ],
             [
              0.1111111111111111,
              "#46039f"
             ],
             [
              0.2222222222222222,
              "#7201a8"
             ],
             [
              0.3333333333333333,
              "#9c179e"
             ],
             [
              0.4444444444444444,
              "#bd3786"
             ],
             [
              0.5555555555555556,
              "#d8576b"
             ],
             [
              0.6666666666666666,
              "#ed7953"
             ],
             [
              0.7777777777777778,
              "#fb9f3a"
             ],
             [
              0.8888888888888888,
              "#fdca26"
             ],
             [
              1,
              "#f0f921"
             ]
            ],
            "type": "heatmap"
           }
          ],
          "heatmapgl": [
           {
            "colorbar": {
             "outlinewidth": 0,
             "ticks": ""
            },
            "colorscale": [
             [
              0,
              "#0d0887"
             ],
             [
              0.1111111111111111,
              "#46039f"
             ],
             [
              0.2222222222222222,
              "#7201a8"
             ],
             [
              0.3333333333333333,
              "#9c179e"
             ],
             [
              0.4444444444444444,
              "#bd3786"
             ],
             [
              0.5555555555555556,
              "#d8576b"
             ],
             [
              0.6666666666666666,
              "#ed7953"
             ],
             [
              0.7777777777777778,
              "#fb9f3a"
             ],
             [
              0.8888888888888888,
              "#fdca26"
             ],
             [
              1,
              "#f0f921"
             ]
            ],
            "type": "heatmapgl"
           }
          ],
          "histogram": [
           {
            "marker": {
             "pattern": {
              "fillmode": "overlay",
              "size": 10,
              "solidity": 0.2
             }
            },
            "type": "histogram"
           }
          ],
          "histogram2d": [
           {
            "colorbar": {
             "outlinewidth": 0,
             "ticks": ""
            },
            "colorscale": [
             [
              0,
              "#0d0887"
             ],
             [
              0.1111111111111111,
              "#46039f"
             ],
             [
              0.2222222222222222,
              "#7201a8"
             ],
             [
              0.3333333333333333,
              "#9c179e"
             ],
             [
              0.4444444444444444,
              "#bd3786"
             ],
             [
              0.5555555555555556,
              "#d8576b"
             ],
             [
              0.6666666666666666,
              "#ed7953"
             ],
             [
              0.7777777777777778,
              "#fb9f3a"
             ],
             [
              0.8888888888888888,
              "#fdca26"
             ],
             [
              1,
              "#f0f921"
             ]
            ],
            "type": "histogram2d"
           }
          ],
          "histogram2dcontour": [
           {
            "colorbar": {
             "outlinewidth": 0,
             "ticks": ""
            },
            "colorscale": [
             [
              0,
              "#0d0887"
             ],
             [
              0.1111111111111111,
              "#46039f"
             ],
             [
              0.2222222222222222,
              "#7201a8"
             ],
             [
              0.3333333333333333,
              "#9c179e"
             ],
             [
              0.4444444444444444,
              "#bd3786"
             ],
             [
              0.5555555555555556,
              "#d8576b"
             ],
             [
              0.6666666666666666,
              "#ed7953"
             ],
             [
              0.7777777777777778,
              "#fb9f3a"
             ],
             [
              0.8888888888888888,
              "#fdca26"
             ],
             [
              1,
              "#f0f921"
             ]
            ],
            "type": "histogram2dcontour"
           }
          ],
          "mesh3d": [
           {
            "colorbar": {
             "outlinewidth": 0,
             "ticks": ""
            },
            "type": "mesh3d"
           }
          ],
          "parcoords": [
           {
            "line": {
             "colorbar": {
              "outlinewidth": 0,
              "ticks": ""
             }
            },
            "type": "parcoords"
           }
          ],
          "pie": [
           {
            "automargin": true,
            "type": "pie"
           }
          ],
          "scatter": [
           {
            "fillpattern": {
             "fillmode": "overlay",
             "size": 10,
             "solidity": 0.2
            },
            "type": "scatter"
           }
          ],
          "scatter3d": [
           {
            "line": {
             "colorbar": {
              "outlinewidth": 0,
              "ticks": ""
             }
            },
            "marker": {
             "colorbar": {
              "outlinewidth": 0,
              "ticks": ""
             }
            },
            "type": "scatter3d"
           }
          ],
          "scattercarpet": [
           {
            "marker": {
             "colorbar": {
              "outlinewidth": 0,
              "ticks": ""
             }
            },
            "type": "scattercarpet"
           }
          ],
          "scattergeo": [
           {
            "marker": {
             "colorbar": {
              "outlinewidth": 0,
              "ticks": ""
             }
            },
            "type": "scattergeo"
           }
          ],
          "scattergl": [
           {
            "marker": {
             "colorbar": {
              "outlinewidth": 0,
              "ticks": ""
             }
            },
            "type": "scattergl"
           }
          ],
          "scattermapbox": [
           {
            "marker": {
             "colorbar": {
              "outlinewidth": 0,
              "ticks": ""
             }
            },
            "type": "scattermapbox"
           }
          ],
          "scatterpolar": [
           {
            "marker": {
             "colorbar": {
              "outlinewidth": 0,
              "ticks": ""
             }
            },
            "type": "scatterpolar"
           }
          ],
          "scatterpolargl": [
           {
            "marker": {
             "colorbar": {
              "outlinewidth": 0,
              "ticks": ""
             }
            },
            "type": "scatterpolargl"
           }
          ],
          "scatterternary": [
           {
            "marker": {
             "colorbar": {
              "outlinewidth": 0,
              "ticks": ""
             }
            },
            "type": "scatterternary"
           }
          ],
          "surface": [
           {
            "colorbar": {
             "outlinewidth": 0,
             "ticks": ""
            },
            "colorscale": [
             [
              0,
              "#0d0887"
             ],
             [
              0.1111111111111111,
              "#46039f"
             ],
             [
              0.2222222222222222,
              "#7201a8"
             ],
             [
              0.3333333333333333,
              "#9c179e"
             ],
             [
              0.4444444444444444,
              "#bd3786"
             ],
             [
              0.5555555555555556,
              "#d8576b"
             ],
             [
              0.6666666666666666,
              "#ed7953"
             ],
             [
              0.7777777777777778,
              "#fb9f3a"
             ],
             [
              0.8888888888888888,
              "#fdca26"
             ],
             [
              1,
              "#f0f921"
             ]
            ],
            "type": "surface"
           }
          ],
          "table": [
           {
            "cells": {
             "fill": {
              "color": "#EBF0F8"
             },
             "line": {
              "color": "white"
             }
            },
            "header": {
             "fill": {
              "color": "#C8D4E3"
             },
             "line": {
              "color": "white"
             }
            },
            "type": "table"
           }
          ]
         },
         "layout": {
          "annotationdefaults": {
           "arrowcolor": "#2a3f5f",
           "arrowhead": 0,
           "arrowwidth": 1
          },
          "autotypenumbers": "strict",
          "coloraxis": {
           "colorbar": {
            "outlinewidth": 0,
            "ticks": ""
           }
          },
          "colorscale": {
           "diverging": [
            [
             0,
             "#8e0152"
            ],
            [
             0.1,
             "#c51b7d"
            ],
            [
             0.2,
             "#de77ae"
            ],
            [
             0.3,
             "#f1b6da"
            ],
            [
             0.4,
             "#fde0ef"
            ],
            [
             0.5,
             "#f7f7f7"
            ],
            [
             0.6,
             "#e6f5d0"
            ],
            [
             0.7,
             "#b8e186"
            ],
            [
             0.8,
             "#7fbc41"
            ],
            [
             0.9,
             "#4d9221"
            ],
            [
             1,
             "#276419"
            ]
           ],
           "sequential": [
            [
             0,
             "#0d0887"
            ],
            [
             0.1111111111111111,
             "#46039f"
            ],
            [
             0.2222222222222222,
             "#7201a8"
            ],
            [
             0.3333333333333333,
             "#9c179e"
            ],
            [
             0.4444444444444444,
             "#bd3786"
            ],
            [
             0.5555555555555556,
             "#d8576b"
            ],
            [
             0.6666666666666666,
             "#ed7953"
            ],
            [
             0.7777777777777778,
             "#fb9f3a"
            ],
            [
             0.8888888888888888,
             "#fdca26"
            ],
            [
             1,
             "#f0f921"
            ]
           ],
           "sequentialminus": [
            [
             0,
             "#0d0887"
            ],
            [
             0.1111111111111111,
             "#46039f"
            ],
            [
             0.2222222222222222,
             "#7201a8"
            ],
            [
             0.3333333333333333,
             "#9c179e"
            ],
            [
             0.4444444444444444,
             "#bd3786"
            ],
            [
             0.5555555555555556,
             "#d8576b"
            ],
            [
             0.6666666666666666,
             "#ed7953"
            ],
            [
             0.7777777777777778,
             "#fb9f3a"
            ],
            [
             0.8888888888888888,
             "#fdca26"
            ],
            [
             1,
             "#f0f921"
            ]
           ]
          },
          "colorway": [
           "#636efa",
           "#EF553B",
           "#00cc96",
           "#ab63fa",
           "#FFA15A",
           "#19d3f3",
           "#FF6692",
           "#B6E880",
           "#FF97FF",
           "#FECB52"
          ],
          "font": {
           "color": "#2a3f5f"
          },
          "geo": {
           "bgcolor": "white",
           "lakecolor": "white",
           "landcolor": "#E5ECF6",
           "showlakes": true,
           "showland": true,
           "subunitcolor": "white"
          },
          "hoverlabel": {
           "align": "left"
          },
          "hovermode": "closest",
          "mapbox": {
           "style": "light"
          },
          "paper_bgcolor": "white",
          "plot_bgcolor": "#E5ECF6",
          "polar": {
           "angularaxis": {
            "gridcolor": "white",
            "linecolor": "white",
            "ticks": ""
           },
           "bgcolor": "#E5ECF6",
           "radialaxis": {
            "gridcolor": "white",
            "linecolor": "white",
            "ticks": ""
           }
          },
          "scene": {
           "xaxis": {
            "backgroundcolor": "#E5ECF6",
            "gridcolor": "white",
            "gridwidth": 2,
            "linecolor": "white",
            "showbackground": true,
            "ticks": "",
            "zerolinecolor": "white"
           },
           "yaxis": {
            "backgroundcolor": "#E5ECF6",
            "gridcolor": "white",
            "gridwidth": 2,
            "linecolor": "white",
            "showbackground": true,
            "ticks": "",
            "zerolinecolor": "white"
           },
           "zaxis": {
            "backgroundcolor": "#E5ECF6",
            "gridcolor": "white",
            "gridwidth": 2,
            "linecolor": "white",
            "showbackground": true,
            "ticks": "",
            "zerolinecolor": "white"
           }
          },
          "shapedefaults": {
           "line": {
            "color": "#2a3f5f"
           }
          },
          "ternary": {
           "aaxis": {
            "gridcolor": "white",
            "linecolor": "white",
            "ticks": ""
           },
           "baxis": {
            "gridcolor": "white",
            "linecolor": "white",
            "ticks": ""
           },
           "bgcolor": "#E5ECF6",
           "caxis": {
            "gridcolor": "white",
            "linecolor": "white",
            "ticks": ""
           }
          },
          "title": {
           "x": 0.05
          },
          "xaxis": {
           "automargin": true,
           "gridcolor": "white",
           "linecolor": "white",
           "ticks": "",
           "title": {
            "standoff": 15
           },
           "zerolinecolor": "white",
           "zerolinewidth": 2
          },
          "yaxis": {
           "automargin": true,
           "gridcolor": "white",
           "linecolor": "white",
           "ticks": "",
           "title": {
            "standoff": 15
           },
           "zerolinecolor": "white",
           "zerolinewidth": 2
          }
         }
        }
       }
      },
      "image/png": "[encoded data removed]",
      "text/html": [
       "<div>                            <div id=\"d3da1193-c52c-4e5b-8554-d65a8c360528\" class=\"plotly-graph-div\" style=\"height:525px; width:100%;\"></div>            <script type=\"text/javascript\">                require([\"plotly\"], function(Plotly) {                    window.PLOTLYENV=window.PLOTLYENV || {};                                    if (document.getElementById(\"d3da1193-c52c-4e5b-8554-d65a8c360528\")) {                    Plotly.newPlot(                        \"d3da1193-c52c-4e5b-8554-d65a8c360528\",                        [{\"hovertemplate\":\"feature1=%{x}\\u003cbr\\u003efeature2=%{y}\\u003cbr\\u003etarget=%{z}\\u003cextra\\u003e\\u003c\\u002fextra\\u003e\",\"legendgroup\":\"\",\"marker\":{\"color\":\"#636efa\",\"symbol\":\"circle\"},\"mode\":\"markers\",\"name\":\"\",\"scene\":\"scene\",\"showlegend\":false,\"x\":[0.10002466486231301,0.7370334735696612,0.7490811515763292,-0.05918017464758382,1.5688848551883638,0.0019086683218046338,0.7453265395242933,-0.5212844656692234,0.9681545368588906,-0.2650755646556446,0.9076415562832878,2.3542107213680485,-0.06717811877734468,-0.33861277357478053,0.7058928367970676,-2.7341930913886077,0.7861656633770086,0.45730757217323453,-0.45461255474075934,1.978053470411741,-3.641060577551044,1.674364630769335,0.3107972553496606,-0.8161757060615782,1.1426945689892911,0.4660275569154945,1.1385453241841608,0.12669169587717435,-2.2712820476686293,-0.33210578799358204,-0.7200223243023882,-0.6325190937983713,0.5078314592207261,0.5160642625152788,-0.20704643328983707,0.11903746830894202,0.26668340228019083,-0.6303581838371634,0.3829351431581874,1.235904472609663,-0.4402289133076698,-0.9027698796708689,0.008566561636746801,-0.10696731584875815,0.5960707271229325,0.7553634913110876,-1.5429367390894388,-0.7687354431506201,0.6399700333705545,0.7577183309820055,-0.6044248980322624,-1.483970342223675,0.26772893589546165,0.012496783061049978,0.8752361061750701,0.14429814483588865,0.5226018118200103,-1.006866687936048,-1.1103738444386975,0.18352858039769696,-1.480249231822065,-0.28429674235932073,0.22376524530619935,-0.1964801239013066,0.5886016568259332,0.8655102279325004,-0.43635088679825357,-2.029546346981814,-0.36731924152954903,0.6684349515110155,1.3711184085753265,-0.3220289069576444,0.3806401927611005,2.002108317305951,-0.36706049209408964,1.3750206219339447,-0.2637011350319687,1.2425641409200643,-1.0671179801863253,0.11582268949960879,-0.059390480346913195,-0.6708254832960233,-0.6957688006684838,0.32164552398311963,-0.7036412125441772,2.4315344336993845,-0.4774682545085541,0.6561272446000316,-0.698265404973852,0.8478395033765596,-0.420977803441137,0.33764192191285824,0.8121695401364278,-0.6080559682348234,-0.9927583595425163,0.34846899493334804,-0.7434041097324414,0.5525858547117498,-1.3429557779592693,-0.5303016593615473],\"y\":[0.7504575452429996,-0.6547466979152433,0.6137457880627195,-0.45040988756762484,-0.9139025788049584,-0.5424925943243418,-0.7706593746127599,1.7384356197954725,-0.42444929104138157,-0.5924814687991995,-0.9591374097067019,-0.2836674032332486,0.7373176084511782,0.46022734717381536,0.42439530165855444,1.745233695663283,2.163583281719818,0.9798234098368372,-0.9073086175822689,-1.7718087911791636,-0.34573584620927195,1.0005854154624818,-1.723990038653871,-0.5329527820522756,-0.4247926595664567,0.5803760147562634,-0.6283305064181296,0.12514087900522167,-0.19498197362624906,0.5014954681480256,1.3228776706855774,0.677314914245078,-0.2602007632342747,1.0627306380409167,-2.159681186462957,0.2668376898039869,-0.06341833080450732,1.7366901636557706,-1.185599036366392,-0.6462517369657405,0.06005596766978464,0.8408814572823331,-1.1947664537513376,0.7486556829310943,1.9531333851045145,-1.0665778398947607,-0.7685563623327784,-0.9175832023694881,-0.014853205517451003,-0.4168327740989296,0.7456897460115863,-0.28108230831837,1.6160081366295154,-0.5296295950875428,0.07728910260618843,0.29141526098425935,0.22379251129714306,-0.21368869783377634,1.670255699620357,1.1857194241410662,-0.31633067668700743,-1.5013391259448388,0.12675231161964207,0.15606888626146637,-1.3286912368942465,0.25635959506870093,1.7120298844893247,1.993195723257296,0.41636096799916295,-0.39590932907699034,-1.4429288594247507,0.25503719952918824,-0.8458963491122914,0.046859229423564804,0.03879756853209727,-0.6787186995030942,0.3221385827182774,0.8395569125863974,-0.026784006212477934,0.09701535041179064,0.18301102896186736,0.8866250188035745,-1.3025813021334542,-0.16529744917442282,-0.3708363093217664,-0.41123032849812724,-0.2001426458894086,-1.0514389155383148,-0.21028047514042247,-0.155528711403862,0.4529040701493943,0.37650793043249875,-0.287009970064455,1.9912107314578416,0.1747890991394867,0.49703656671461893,1.3275162041765236,0.9572509848439588,-0.7098014344875074,-1.272099630028364],\"z\":[20.592630851225472,10.331297789633588,155.8458000535063,-76.90403299980096,-1.6167465835603092,-20.757463799844828,-29.330097134662783,85.8647720203469,30.340291137485394,-69.30533249773697,-73.77182792978131,69.22511575409816,95.49140417021535,52.82387665096881,-30.737843028209795,3.1357989626349188,79.75325991234926,-16.05792879965948,-94.47246687972714,-66.38710736875633,-217.6969779707433,204.1132518014751,-90.3300061688754,-69.9863298901284,130.30495151588582,-55.34313188825851,71.47875499288476,62.4369152182109,-29.163728698411333,-54.88907799893346,54.1519302386093,19.66424943589854,1.462530003735699,114.71055171782308,-184.13630845578396,50.85604136413296,77.76604254366913,48.01782623138088,-30.437159544181597,-14.117854531322909,-97.2219768909661,-32.17873770622906,-44.63623202416944,49.96328701836097,177.07465463653705,14.507669068558869,-145.8641512772807,-84.5675620365368,-118.0794124735186,-58.921391709020995,-31.77012307524585,-174.87457959730625,215.38855527127254,-115.12194203312733,152.07195016783447,-51.35983062460268,55.992680241700896,12.514109518953362,80.33704920875377,77.22932602099715,-57.638165857494855,-94.18603605418969,1.1443431373513597,-7.455779874606446,-101.10624672591513,25.518761323495873,47.828293429807715,71.41511531689116,53.34910236322348,-30.73150373336354,-97.07389169955707,-156.43394874968612,-136.98991627765352,184.69678805238271,-29.891911326208557,61.00617858010296,-10.521752565768342,180.7069051193925,-118.28014978759998,98.21555261421376,-8.94389616539434,22.53122371202754,-130.94467916865463,16.936481505565656,-47.844460170148565,74.28556765916146,-72.37901484035761,-43.63425281893334,-13.19336008230782,-26.11786174089907,-0.7740519961978194,102.03536892622856,-14.628370824876205,153.1765632891849,0.3711240778802427,-2.2815553498651866,178.55240631998052,130.38934894353244,-96.18304113094372,-62.79646921951811],\"type\":\"scatter3d\"}],                        {\"template\":{\"data\":{\"histogram2dcontour\":[{\"type\":\"histogram2dcontour\",\"colorbar\":{\"outlinewidth\":0,\"ticks\":\"\"},\"colorscale\":[[0.0,\"#0d0887\"],[0.1111111111111111,\"#46039f\"],[0.2222222222222222,\"#7201a8\"],[0.3333333333333333,\"#9c179e\"],[0.4444444444444444,\"#bd3786\"],[0.5555555555555556,\"#d8576b\"],[0.6666666666666666,\"#ed7953\"],[0.7777777777777778,\"#fb9f3a\"],[0.8888888888888888,\"#fdca26\"],[1.0,\"#f0f921\"]]}],\"choropleth\":[{\"type\":\"choropleth\",\"colorbar\":{\"outlinewidth\":0,\"ticks\":\"\"}}],\"histogram2d\":[{\"type\":\"histogram2d\",\"colorbar\":{\"outlinewidth\":0,\"ticks\":\"\"},\"colorscale\":[[0.0,\"#0d0887\"],[0.1111111111111111,\"#46039f\"],[0.2222222222222222,\"#7201a8\"],[0.3333333333333333,\"#9c179e\"],[0.4444444444444444,\"#bd3786\"],[0.5555555555555556,\"#d8576b\"],[0.6666666666666666,\"#ed7953\"],[0.7777777777777778,\"#fb9f3a\"],[0.8888888888888888,\"#fdca26\"],[1.0,\"#f0f921\"]]}],\"heatmap\":[{\"type\":\"heatmap\",\"colorbar\":{\"outlinewidth\":0,\"ticks\":\"\"},\"colorscale\":[[0.0,\"#0d0887\"],[0.1111111111111111,\"#46039f\"],[0.2222222222222222,\"#7201a8\"],[0.3333333333333333,\"#9c179e\"],[0.4444444444444444,\"#bd3786\"],[0.5555555555555556,\"#d8576b\"],[0.6666666666666666,\"#ed7953\"],[0.7777777777777778,\"#fb9f3a\"],[0.8888888888888888,\"#fdca26\"],[1.0,\"#f0f921\"]]}],\"heatmapgl\":[{\"type\":\"heatmapgl\",\"colorbar\":{\"outlinewidth\":0,\"ticks\":\"\"},\"colorscale\":[[0.0,\"#0d0887\"],[0.1111111111111111,\"#46039f\"],[0.2222222222222222,\"#7201a8\"],[0.3333333333333333,\"#9c179e\"],[0.4444444444444444,\"#bd3786\"],[0.5555555555555556,\"#d8576b\"],[0.6666666666666666,\"#ed7953\"],[0.7777777777777778,\"#fb9f3a\"],[0.8888888888888888,\"#fdca26\"],[1.0,\"#f0f921\"]]}],\"contourcarpet\":[{\"type\":\"contourcarpet\",\"colorbar\":{\"outlinewidth\":0,\"ticks\":\"\"}}],\"contour\":[{\"type\":\"contour\",\"colorbar\":{\"outlinewidth\":0,\"ticks\":\"\"},\"colorscale\":[[0.0,\"#0d0887\"],[0.1111111111111111,\"#46039f\"],[0.2222222222222222,\"#7201a8\"],[0.3333333333333333,\"#9c179e\"],[0.4444444444444444,\"#bd3786\"],[0.5555555555555556,\"#d8576b\"],[0.6666666666666666,\"#ed7953\"],[0.7777777777777778,\"#fb9f3a\"],[0.8888888888888888,\"#fdca26\"],[1.0,\"#f0f921\"]]}],\"surface\":[{\"type\":\"surface\",\"colorbar\":{\"outlinewidth\":0,\"ticks\":\"\"},\"colorscale\":[[0.0,\"#0d0887\"],[0.1111111111111111,\"#46039f\"],[0.2222222222222222,\"#7201a8\"],[0.3333333333333333,\"#9c179e\"],[0.4444444444444444,\"#bd3786\"],[0.5555555555555556,\"#d8576b\"],[0.6666666666666666,\"#ed7953\"],[0.7777777777777778,\"#fb9f3a\"],[0.8888888888888888,\"#fdca26\"],[1.0,\"#f0f921\"]]}],\"mesh3d\":[{\"type\":\"mesh3d\",\"colorbar\":{\"outlinewidth\":0,\"ticks\":\"\"}}],\"scatter\":[{\"fillpattern\":{\"fillmode\":\"overlay\",\"size\":10,\"solidity\":0.2},\"type\":\"scatter\"}],\"parcoords\":[{\"type\":\"parcoords\",\"line\":{\"colorbar\":{\"outlinewidth\":0,\"ticks\":\"\"}}}],\"scatterpolargl\":[{\"type\":\"scatterpolargl\",\"marker\":{\"colorbar\":{\"outlinewidth\":0,\"ticks\":\"\"}}}],\"bar\":[{\"error_x\":{\"color\":\"#2a3f5f\"},\"error_y\":{\"color\":\"#2a3f5f\"},\"marker\":{\"line\":{\"color\":\"#E5ECF6\",\"width\":0.5},\"pattern\":{\"fillmode\":\"overlay\",\"size\":10,\"solidity\":0.2}},\"type\":\"bar\"}],\"scattergeo\":[{\"type\":\"scattergeo\",\"marker\":{\"colorbar\":{\"outlinewidth\":0,\"ticks\":\"\"}}}],\"scatterpolar\":[{\"type\":\"scatterpolar\",\"marker\":{\"colorbar\":{\"outlinewidth\":0,\"ticks\":\"\"}}}],\"histogram\":[{\"marker\":{\"pattern\":{\"fillmode\":\"overlay\",\"size\":10,\"solidity\":0.2}},\"type\":\"histogram\"}],\"scattergl\":[{\"type\":\"scattergl\",\"marker\":{\"colorbar\":{\"outlinewidth\":0,\"ticks\":\"\"}}}],\"scatter3d\":[{\"type\":\"scatter3d\",\"line\":{\"colorbar\":{\"outlinewidth\":0,\"ticks\":\"\"}},\"marker\":{\"colorbar\":{\"outlinewidth\":0,\"ticks\":\"\"}}}],\"scattermapbox\":[{\"type\":\"scattermapbox\",\"marker\":{\"colorbar\":{\"outlinewidth\":0,\"ticks\":\"\"}}}],\"scatterternary\":[{\"type\":\"scatterternary\",\"marker\":{\"colorbar\":{\"outlinewidth\":0,\"ticks\":\"\"}}}],\"scattercarpet\":[{\"type\":\"scattercarpet\",\"marker\":{\"colorbar\":{\"outlinewidth\":0,\"ticks\":\"\"}}}],\"carpet\":[{\"aaxis\":{\"endlinecolor\":\"#2a3f5f\",\"gridcolor\":\"white\",\"linecolor\":\"white\",\"minorgridcolor\":\"white\",\"startlinecolor\":\"#2a3f5f\"},\"baxis\":{\"endlinecolor\":\"#2a3f5f\",\"gridcolor\":\"white\",\"linecolor\":\"white\",\"minorgridcolor\":\"white\",\"startlinecolor\":\"#2a3f5f\"},\"type\":\"carpet\"}],\"table\":[{\"cells\":{\"fill\":{\"color\":\"#EBF0F8\"},\"line\":{\"color\":\"white\"}},\"header\":{\"fill\":{\"color\":\"#C8D4E3\"},\"line\":{\"color\":\"white\"}},\"type\":\"table\"}],\"barpolar\":[{\"marker\":{\"line\":{\"color\":\"#E5ECF6\",\"width\":0.5},\"pattern\":{\"fillmode\":\"overlay\",\"size\":10,\"solidity\":0.2}},\"type\":\"barpolar\"}],\"pie\":[{\"automargin\":true,\"type\":\"pie\"}]},\"layout\":{\"autotypenumbers\":\"strict\",\"colorway\":[\"#636efa\",\"#EF553B\",\"#00cc96\",\"#ab63fa\",\"#FFA15A\",\"#19d3f3\",\"#FF6692\",\"#B6E880\",\"#FF97FF\",\"#FECB52\"],\"font\":{\"color\":\"#2a3f5f\"},\"hovermode\":\"closest\",\"hoverlabel\":{\"align\":\"left\"},\"paper_bgcolor\":\"white\",\"plot_bgcolor\":\"#E5ECF6\",\"polar\":{\"bgcolor\":\"#E5ECF6\",\"angularaxis\":{\"gridcolor\":\"white\",\"linecolor\":\"white\",\"ticks\":\"\"},\"radialaxis\":{\"gridcolor\":\"white\",\"linecolor\":\"white\",\"ticks\":\"\"}},\"ternary\":{\"bgcolor\":\"#E5ECF6\",\"aaxis\":{\"gridcolor\":\"white\",\"linecolor\":\"white\",\"ticks\":\"\"},\"baxis\":{\"gridcolor\":\"white\",\"linecolor\":\"white\",\"ticks\":\"\"},\"caxis\":{\"gridcolor\":\"white\",\"linecolor\":\"white\",\"ticks\":\"\"}},\"coloraxis\":{\"colorbar\":{\"outlinewidth\":0,\"ticks\":\"\"}},\"colorscale\":{\"sequential\":[[0.0,\"#0d0887\"],[0.1111111111111111,\"#46039f\"],[0.2222222222222222,\"#7201a8\"],[0.3333333333333333,\"#9c179e\"],[0.4444444444444444,\"#bd3786\"],[0.5555555555555556,\"#d8576b\"],[0.6666666666666666,\"#ed7953\"],[0.7777777777777778,\"#fb9f3a\"],[0.8888888888888888,\"#fdca26\"],[1.0,\"#f0f921\"]],\"sequentialminus\":[[0.0,\"#0d0887\"],[0.1111111111111111,\"#46039f\"],[0.2222222222222222,\"#7201a8\"],[0.3333333333333333,\"#9c179e\"],[0.4444444444444444,\"#bd3786\"],[0.5555555555555556,\"#d8576b\"],[0.6666666666666666,\"#ed7953\"],[0.7777777777777778,\"#fb9f3a\"],[0.8888888888888888,\"#fdca26\"],[1.0,\"#f0f921\"]],\"diverging\":[[0,\"#8e0152\"],[0.1,\"#c51b7d\"],[0.2,\"#de77ae\"],[0.3,\"#f1b6da\"],[0.4,\"#fde0ef\"],[0.5,\"#f7f7f7\"],[0.6,\"#e6f5d0\"],[0.7,\"#b8e186\"],[0.8,\"#7fbc41\"],[0.9,\"#4d9221\"],[1,\"#276419\"]]},\"xaxis\":{\"gridcolor\":\"white\",\"linecolor\":\"white\",\"ticks\":\"\",\"title\":{\"standoff\":15},\"zerolinecolor\":\"white\",\"automargin\":true,\"zerolinewidth\":2},\"yaxis\":{\"gridcolor\":\"white\",\"linecolor\":\"white\",\"ticks\":\"\",\"title\":{\"standoff\":15},\"zerolinecolor\":\"white\",\"automargin\":true,\"zerolinewidth\":2},\"scene\":{\"xaxis\":{\"backgroundcolor\":\"#E5ECF6\",\"gridcolor\":\"white\",\"linecolor\":\"white\",\"showbackground\":true,\"ticks\":\"\",\"zerolinecolor\":\"white\",\"gridwidth\":2},\"yaxis\":{\"backgroundcolor\":\"#E5ECF6\",\"gridcolor\":\"white\",\"linecolor\":\"white\",\"showbackground\":true,\"ticks\":\"\",\"zerolinecolor\":\"white\",\"gridwidth\":2},\"zaxis\":{\"backgroundcolor\":\"#E5ECF6\",\"gridcolor\":\"white\",\"linecolor\":\"white\",\"showbackground\":true,\"ticks\":\"\",\"zerolinecolor\":\"white\",\"gridwidth\":2}},\"shapedefaults\":{\"line\":{\"color\":\"#2a3f5f\"}},\"annotationdefaults\":{\"arrowcolor\":\"#2a3f5f\",\"arrowhead\":0,\"arrowwidth\":1},\"geo\":{\"bgcolor\":\"white\",\"landcolor\":\"#E5ECF6\",\"subunitcolor\":\"white\",\"showland\":true,\"showlakes\":true,\"lakecolor\":\"white\"},\"title\":{\"x\":0.05},\"mapbox\":{\"style\":\"light\"}}},\"scene\":{\"domain\":{\"x\":[0.0,1.0],\"y\":[0.0,1.0]},\"xaxis\":{\"title\":{\"text\":\"feature1\"}},\"yaxis\":{\"title\":{\"text\":\"feature2\"}},\"zaxis\":{\"title\":{\"text\":\"target\"}}},\"legend\":{\"tracegroupgap\":0},\"margin\":{\"t\":60}},                        {\"responsive\": true}                    ).then(function(){\n",
       "                            \n",
       "var gd = document.getElementById('d3da1193-c52c-4e5b-8554-d65a8c360528');\n",
       "var x = new MutationObserver(function (mutations, observer) {{\n",
       "        var display = window.getComputedStyle(gd).display;\n",
       "        if (!display || display === 'none') {{\n",
       "            console.log([gd, 'removed!']);\n",
       "            Plotly.purge(gd);\n",
       "            observer.disconnect();\n",
       "        }}\n",
       "}});\n",
       "\n",
       "// Listen for the removal of the full notebook cells\n",
       "var notebookContainer = gd.closest('#notebook-container');\n",
       "if (notebookContainer) {{\n",
       "    x.observe(notebookContainer, {childList: true});\n",
       "}}\n",
       "\n",
       "// Listen for the clearing of the current output cell\n",
       "var outputEl = gd.closest('.output');\n",
       "if (outputEl) {{\n",
       "    x.observe(outputEl, {childList: true});\n",
       "}}\n",
       "\n",
       "                        })                };                });            </script>        </div>"
      ]
     },
     "metadata": {},
     "output_type": "display_data"
    }
   ],
   "source": [
    "fig = px.scatter_3d(df,x='feature1',y='feature2',z='target')\n",
    "fig.show()"
   ]
  },
  {
   "cell_type": "code",
   "execution_count": 9,
   "id": "5159674b-e294-471e-9fb4-643ffe24a4f4",
   "metadata": {},
   "outputs": [],
   "source": [
    "from sklearn.model_selection import train_test_split\n",
    "X_train,X_test,y_train,y_test = train_test_split(X,y,test_size=0.2,random_state=3)"
   ]
  },
  {
   "cell_type": "code",
   "execution_count": 10,
   "id": "f13ef0d0-c14e-4e66-97c3-1d7d84d5f774",
   "metadata": {},
   "outputs": [],
   "source": [
    "from sklearn.linear_model import LinearRegression"
   ]
  },
  {
   "cell_type": "code",
   "execution_count": 11,
   "id": "2af3f5ab-2a3e-4409-80af-8807db62971b",
   "metadata": {},
   "outputs": [],
   "source": [
    "lr = LinearRegression()"
   ]
  },
  {
   "cell_type": "code",
   "execution_count": 12,
   "id": "d143aeb2-07d5-4a10-b9c2-2212419d5486",
   "metadata": {},
   "outputs": [
    {
     "data": {
      "text/html": [
       "<style>#sk-container-id-1 {\n",
       "  /* Definition of color scheme common for light and dark mode */\n",
       "  --sklearn-color-text: black;\n",
       "  --sklearn-color-line: gray;\n",
       "  /* Definition of color scheme for unfitted estimators */\n",
       "  --sklearn-color-unfitted-level-0: #fff5e6;\n",
       "  --sklearn-color-unfitted-level-1: #f6e4d2;\n",
       "  --sklearn-color-unfitted-level-2: #ffe0b3;\n",
       "  --sklearn-color-unfitted-level-3: chocolate;\n",
       "  /* Definition of color scheme for fitted estimators */\n",
       "  --sklearn-color-fitted-level-0: #f0f8ff;\n",
       "  --sklearn-color-fitted-level-1: #d4ebff;\n",
       "  --sklearn-color-fitted-level-2: #b3dbfd;\n",
       "  --sklearn-color-fitted-level-3: cornflowerblue;\n",
       "\n",
       "  /* Specific color for light theme */\n",
       "  --sklearn-color-text-on-default-background: var(--sg-text-color, var(--theme-code-foreground, var(--jp-content-font-color1, black)));\n",
       "  --sklearn-color-background: var(--sg-background-color, var(--theme-background, var(--jp-layout-color0, white)));\n",
       "  --sklearn-color-border-box: var(--sg-text-color, var(--theme-code-foreground, var(--jp-content-font-color1, black)));\n",
       "  --sklearn-color-icon: #696969;\n",
       "\n",
       "  @media (prefers-color-scheme: dark) {\n",
       "    /* Redefinition of color scheme for dark theme */\n",
       "    --sklearn-color-text-on-default-background: var(--sg-text-color, var(--theme-code-foreground, var(--jp-content-font-color1, white)));\n",
       "    --sklearn-color-background: var(--sg-background-color, var(--theme-background, var(--jp-layout-color0, #111)));\n",
       "    --sklearn-color-border-box: var(--sg-text-color, var(--theme-code-foreground, var(--jp-content-font-color1, white)));\n",
       "    --sklearn-color-icon: #878787;\n",
       "  }\n",
       "}\n",
       "\n",
       "#sk-container-id-1 {\n",
       "  color: var(--sklearn-color-text);\n",
       "}\n",
       "\n",
       "#sk-container-id-1 pre {\n",
       "  padding: 0;\n",
       "}\n",
       "\n",
       "#sk-container-id-1 input.sk-hidden--visually {\n",
       "  border: 0;\n",
       "  clip: rect(1px 1px 1px 1px);\n",
       "  clip: rect(1px, 1px, 1px, 1px);\n",
       "  height: 1px;\n",
       "  margin: -1px;\n",
       "  overflow: hidden;\n",
       "  padding: 0;\n",
       "  position: absolute;\n",
       "  width: 1px;\n",
       "}\n",
       "\n",
       "#sk-container-id-1 div.sk-dashed-wrapped {\n",
       "  border: 1px dashed var(--sklearn-color-line);\n",
       "  margin: 0 0.4em 0.5em 0.4em;\n",
       "  box-sizing: border-box;\n",
       "  padding-bottom: 0.4em;\n",
       "  background-color: var(--sklearn-color-background);\n",
       "}\n",
       "\n",
       "#sk-container-id-1 div.sk-container {\n",
       "  /* jupyter's `normalize.less` sets `[hidden] { display: none; }`\n",
       "     but bootstrap.min.css set `[hidden] { display: none !important; }`\n",
       "     so we also need the `!important` here to be able to override the\n",
       "     default hidden behavior on the sphinx rendered scikit-learn.org.\n",
       "     See: https://github.com/scikit-learn/scikit-learn/issues/21755 */\n",
       "  display: inline-block !important;\n",
       "  position: relative;\n",
       "}\n",
       "\n",
       "#sk-container-id-1 div.sk-text-repr-fallback {\n",
       "  display: none;\n",
       "}\n",
       "\n",
       "div.sk-parallel-item,\n",
       "div.sk-serial,\n",
       "div.sk-item {\n",
       "  /* draw centered vertical line to link estimators */\n",
       "  background-image: linear-gradient(var(--sklearn-color-text-on-default-background), var(--sklearn-color-text-on-default-background));\n",
       "  background-size: 2px 100%;\n",
       "  background-repeat: no-repeat;\n",
       "  background-position: center center;\n",
       "}\n",
       "\n",
       "/* Parallel-specific style estimator block */\n",
       "\n",
       "#sk-container-id-1 div.sk-parallel-item::after {\n",
       "  content: \"\";\n",
       "  width: 100%;\n",
       "  border-bottom: 2px solid var(--sklearn-color-text-on-default-background);\n",
       "  flex-grow: 1;\n",
       "}\n",
       "\n",
       "#sk-container-id-1 div.sk-parallel {\n",
       "  display: flex;\n",
       "  align-items: stretch;\n",
       "  justify-content: center;\n",
       "  background-color: var(--sklearn-color-background);\n",
       "  position: relative;\n",
       "}\n",
       "\n",
       "#sk-container-id-1 div.sk-parallel-item {\n",
       "  display: flex;\n",
       "  flex-direction: column;\n",
       "}\n",
       "\n",
       "#sk-container-id-1 div.sk-parallel-item:first-child::after {\n",
       "  align-self: flex-end;\n",
       "  width: 50%;\n",
       "}\n",
       "\n",
       "#sk-container-id-1 div.sk-parallel-item:last-child::after {\n",
       "  align-self: flex-start;\n",
       "  width: 50%;\n",
       "}\n",
       "\n",
       "#sk-container-id-1 div.sk-parallel-item:only-child::after {\n",
       "  width: 0;\n",
       "}\n",
       "\n",
       "/* Serial-specific style estimator block */\n",
       "\n",
       "#sk-container-id-1 div.sk-serial {\n",
       "  display: flex;\n",
       "  flex-direction: column;\n",
       "  align-items: center;\n",
       "  background-color: var(--sklearn-color-background);\n",
       "  padding-right: 1em;\n",
       "  padding-left: 1em;\n",
       "}\n",
       "\n",
       "\n",
       "/* Toggleable style: style used for estimator/Pipeline/ColumnTransformer box that is\n",
       "clickable and can be expanded/collapsed.\n",
       "- Pipeline and ColumnTransformer use this feature and define the default style\n",
       "- Estimators will overwrite some part of the style using the `sk-estimator` class\n",
       "*/\n",
       "\n",
       "/* Pipeline and ColumnTransformer style (default) */\n",
       "\n",
       "#sk-container-id-1 div.sk-toggleable {\n",
       "  /* Default theme specific background. It is overwritten whether we have a\n",
       "  specific estimator or a Pipeline/ColumnTransformer */\n",
       "  background-color: var(--sklearn-color-background);\n",
       "}\n",
       "\n",
       "/* Toggleable label */\n",
       "#sk-container-id-1 label.sk-toggleable__label {\n",
       "  cursor: pointer;\n",
       "  display: block;\n",
       "  width: 100%;\n",
       "  margin-bottom: 0;\n",
       "  padding: 0.5em;\n",
       "  box-sizing: border-box;\n",
       "  text-align: center;\n",
       "}\n",
       "\n",
       "#sk-container-id-1 label.sk-toggleable__label-arrow:before {\n",
       "  /* Arrow on the left of the label */\n",
       "  content: \"▸\";\n",
       "  float: left;\n",
       "  margin-right: 0.25em;\n",
       "  color: var(--sklearn-color-icon);\n",
       "}\n",
       "\n",
       "#sk-container-id-1 label.sk-toggleable__label-arrow:hover:before {\n",
       "  color: var(--sklearn-color-text);\n",
       "}\n",
       "\n",
       "/* Toggleable content - dropdown */\n",
       "\n",
       "#sk-container-id-1 div.sk-toggleable__content {\n",
       "  max-height: 0;\n",
       "  max-width: 0;\n",
       "  overflow: hidden;\n",
       "  text-align: left;\n",
       "  /* unfitted */\n",
       "  background-color: var(--sklearn-color-unfitted-level-0);\n",
       "}\n",
       "\n",
       "#sk-container-id-1 div.sk-toggleable__content.fitted {\n",
       "  /* fitted */\n",
       "  background-color: var(--sklearn-color-fitted-level-0);\n",
       "}\n",
       "\n",
       "#sk-container-id-1 div.sk-toggleable__content pre {\n",
       "  margin: 0.2em;\n",
       "  border-radius: 0.25em;\n",
       "  color: var(--sklearn-color-text);\n",
       "  /* unfitted */\n",
       "  background-color: var(--sklearn-color-unfitted-level-0);\n",
       "}\n",
       "\n",
       "#sk-container-id-1 div.sk-toggleable__content.fitted pre {\n",
       "  /* unfitted */\n",
       "  background-color: var(--sklearn-color-fitted-level-0);\n",
       "}\n",
       "\n",
       "#sk-container-id-1 input.sk-toggleable__control:checked~div.sk-toggleable__content {\n",
       "  /* Expand drop-down */\n",
       "  max-height: 200px;\n",
       "  max-width: 100%;\n",
       "  overflow: auto;\n",
       "}\n",
       "\n",
       "#sk-container-id-1 input.sk-toggleable__control:checked~label.sk-toggleable__label-arrow:before {\n",
       "  content: \"▾\";\n",
       "}\n",
       "\n",
       "/* Pipeline/ColumnTransformer-specific style */\n",
       "\n",
       "#sk-container-id-1 div.sk-label input.sk-toggleable__control:checked~label.sk-toggleable__label {\n",
       "  color: var(--sklearn-color-text);\n",
       "  background-color: var(--sklearn-color-unfitted-level-2);\n",
       "}\n",
       "\n",
       "#sk-container-id-1 div.sk-label.fitted input.sk-toggleable__control:checked~label.sk-toggleable__label {\n",
       "  background-color: var(--sklearn-color-fitted-level-2);\n",
       "}\n",
       "\n",
       "/* Estimator-specific style */\n",
       "\n",
       "/* Colorize estimator box */\n",
       "#sk-container-id-1 div.sk-estimator input.sk-toggleable__control:checked~label.sk-toggleable__label {\n",
       "  /* unfitted */\n",
       "  background-color: var(--sklearn-color-unfitted-level-2);\n",
       "}\n",
       "\n",
       "#sk-container-id-1 div.sk-estimator.fitted input.sk-toggleable__control:checked~label.sk-toggleable__label {\n",
       "  /* fitted */\n",
       "  background-color: var(--sklearn-color-fitted-level-2);\n",
       "}\n",
       "\n",
       "#sk-container-id-1 div.sk-label label.sk-toggleable__label,\n",
       "#sk-container-id-1 div.sk-label label {\n",
       "  /* The background is the default theme color */\n",
       "  color: var(--sklearn-color-text-on-default-background);\n",
       "}\n",
       "\n",
       "/* On hover, darken the color of the background */\n",
       "#sk-container-id-1 div.sk-label:hover label.sk-toggleable__label {\n",
       "  color: var(--sklearn-color-text);\n",
       "  background-color: var(--sklearn-color-unfitted-level-2);\n",
       "}\n",
       "\n",
       "/* Label box, darken color on hover, fitted */\n",
       "#sk-container-id-1 div.sk-label.fitted:hover label.sk-toggleable__label.fitted {\n",
       "  color: var(--sklearn-color-text);\n",
       "  background-color: var(--sklearn-color-fitted-level-2);\n",
       "}\n",
       "\n",
       "/* Estimator label */\n",
       "\n",
       "#sk-container-id-1 div.sk-label label {\n",
       "  font-family: monospace;\n",
       "  font-weight: bold;\n",
       "  display: inline-block;\n",
       "  line-height: 1.2em;\n",
       "}\n",
       "\n",
       "#sk-container-id-1 div.sk-label-container {\n",
       "  text-align: center;\n",
       "}\n",
       "\n",
       "/* Estimator-specific */\n",
       "#sk-container-id-1 div.sk-estimator {\n",
       "  font-family: monospace;\n",
       "  border: 1px dotted var(--sklearn-color-border-box);\n",
       "  border-radius: 0.25em;\n",
       "  box-sizing: border-box;\n",
       "  margin-bottom: 0.5em;\n",
       "  /* unfitted */\n",
       "  background-color: var(--sklearn-color-unfitted-level-0);\n",
       "}\n",
       "\n",
       "#sk-container-id-1 div.sk-estimator.fitted {\n",
       "  /* fitted */\n",
       "  background-color: var(--sklearn-color-fitted-level-0);\n",
       "}\n",
       "\n",
       "/* on hover */\n",
       "#sk-container-id-1 div.sk-estimator:hover {\n",
       "  /* unfitted */\n",
       "  background-color: var(--sklearn-color-unfitted-level-2);\n",
       "}\n",
       "\n",
       "#sk-container-id-1 div.sk-estimator.fitted:hover {\n",
       "  /* fitted */\n",
       "  background-color: var(--sklearn-color-fitted-level-2);\n",
       "}\n",
       "\n",
       "/* Specification for estimator info (e.g. \"i\" and \"?\") */\n",
       "\n",
       "/* Common style for \"i\" and \"?\" */\n",
       "\n",
       ".sk-estimator-doc-link,\n",
       "a:link.sk-estimator-doc-link,\n",
       "a:visited.sk-estimator-doc-link {\n",
       "  float: right;\n",
       "  font-size: smaller;\n",
       "  line-height: 1em;\n",
       "  font-family: monospace;\n",
       "  background-color: var(--sklearn-color-background);\n",
       "  border-radius: 1em;\n",
       "  height: 1em;\n",
       "  width: 1em;\n",
       "  text-decoration: none !important;\n",
       "  margin-left: 1ex;\n",
       "  /* unfitted */\n",
       "  border: var(--sklearn-color-unfitted-level-1) 1pt solid;\n",
       "  color: var(--sklearn-color-unfitted-level-1);\n",
       "}\n",
       "\n",
       ".sk-estimator-doc-link.fitted,\n",
       "a:link.sk-estimator-doc-link.fitted,\n",
       "a:visited.sk-estimator-doc-link.fitted {\n",
       "  /* fitted */\n",
       "  border: var(--sklearn-color-fitted-level-1) 1pt solid;\n",
       "  color: var(--sklearn-color-fitted-level-1);\n",
       "}\n",
       "\n",
       "/* On hover */\n",
       "div.sk-estimator:hover .sk-estimator-doc-link:hover,\n",
       ".sk-estimator-doc-link:hover,\n",
       "div.sk-label-container:hover .sk-estimator-doc-link:hover,\n",
       ".sk-estimator-doc-link:hover {\n",
       "  /* unfitted */\n",
       "  background-color: var(--sklearn-color-unfitted-level-3);\n",
       "  color: var(--sklearn-color-background);\n",
       "  text-decoration: none;\n",
       "}\n",
       "\n",
       "div.sk-estimator.fitted:hover .sk-estimator-doc-link.fitted:hover,\n",
       ".sk-estimator-doc-link.fitted:hover,\n",
       "div.sk-label-container:hover .sk-estimator-doc-link.fitted:hover,\n",
       ".sk-estimator-doc-link.fitted:hover {\n",
       "  /* fitted */\n",
       "  background-color: var(--sklearn-color-fitted-level-3);\n",
       "  color: var(--sklearn-color-background);\n",
       "  text-decoration: none;\n",
       "}\n",
       "\n",
       "/* Span, style for the box shown on hovering the info icon */\n",
       ".sk-estimator-doc-link span {\n",
       "  display: none;\n",
       "  z-index: 9999;\n",
       "  position: relative;\n",
       "  font-weight: normal;\n",
       "  right: .2ex;\n",
       "  padding: .5ex;\n",
       "  margin: .5ex;\n",
       "  width: min-content;\n",
       "  min-width: 20ex;\n",
       "  max-width: 50ex;\n",
       "  color: var(--sklearn-color-text);\n",
       "  box-shadow: 2pt 2pt 4pt #999;\n",
       "  /* unfitted */\n",
       "  background: var(--sklearn-color-unfitted-level-0);\n",
       "  border: .5pt solid var(--sklearn-color-unfitted-level-3);\n",
       "}\n",
       "\n",
       ".sk-estimator-doc-link.fitted span {\n",
       "  /* fitted */\n",
       "  background: var(--sklearn-color-fitted-level-0);\n",
       "  border: var(--sklearn-color-fitted-level-3);\n",
       "}\n",
       "\n",
       ".sk-estimator-doc-link:hover span {\n",
       "  display: block;\n",
       "}\n",
       "\n",
       "/* \"?\"-specific style due to the `<a>` HTML tag */\n",
       "\n",
       "#sk-container-id-1 a.estimator_doc_link {\n",
       "  float: right;\n",
       "  font-size: 1rem;\n",
       "  line-height: 1em;\n",
       "  font-family: monospace;\n",
       "  background-color: var(--sklearn-color-background);\n",
       "  border-radius: 1rem;\n",
       "  height: 1rem;\n",
       "  width: 1rem;\n",
       "  text-decoration: none;\n",
       "  /* unfitted */\n",
       "  color: var(--sklearn-color-unfitted-level-1);\n",
       "  border: var(--sklearn-color-unfitted-level-1) 1pt solid;\n",
       "}\n",
       "\n",
       "#sk-container-id-1 a.estimator_doc_link.fitted {\n",
       "  /* fitted */\n",
       "  border: var(--sklearn-color-fitted-level-1) 1pt solid;\n",
       "  color: var(--sklearn-color-fitted-level-1);\n",
       "}\n",
       "\n",
       "/* On hover */\n",
       "#sk-container-id-1 a.estimator_doc_link:hover {\n",
       "  /* unfitted */\n",
       "  background-color: var(--sklearn-color-unfitted-level-3);\n",
       "  color: var(--sklearn-color-background);\n",
       "  text-decoration: none;\n",
       "}\n",
       "\n",
       "#sk-container-id-1 a.estimator_doc_link.fitted:hover {\n",
       "  /* fitted */\n",
       "  background-color: var(--sklearn-color-fitted-level-3);\n",
       "}\n",
       "</style><div id=\"sk-container-id-1\" class=\"sk-top-container\"><div class=\"sk-text-repr-fallback\"><pre>LinearRegression()</pre><b>In a Jupyter environment, please rerun this cell to show the HTML representation or trust the notebook. <br />On GitHub, the HTML representation is unable to render, please try loading this page with nbviewer.org.</b></div><div class=\"sk-container\" hidden><div class=\"sk-item\"><div class=\"sk-estimator fitted sk-toggleable\"><input class=\"sk-toggleable__control sk-hidden--visually\" id=\"sk-estimator-id-1\" type=\"checkbox\" checked><label for=\"sk-estimator-id-1\" class=\"sk-toggleable__label fitted sk-toggleable__label-arrow fitted\">&nbsp;&nbsp;LinearRegression<a class=\"sk-estimator-doc-link fitted\" rel=\"noreferrer\" target=\"_blank\" href=\"https://scikit-learn.org/1.5/modules/generated/sklearn.linear_model.LinearRegression.html\">?<span>Documentation for LinearRegression</span></a><span class=\"sk-estimator-doc-link fitted\">i<span>Fitted</span></span></label><div class=\"sk-toggleable__content fitted\"><pre>LinearRegression()</pre></div> </div></div></div></div>"
      ],
      "text/plain": [
       "LinearRegression()"
      ]
     },
     "execution_count": 12,
     "metadata": {},
     "output_type": "execute_result"
    }
   ],
   "source": [
    "lr.fit(X_train,y_train)"
   ]
  },
  {
   "cell_type": "code",
   "execution_count": 13,
   "id": "659e5e0f-edfa-4e15-98e4-29f5b5c82e43",
   "metadata": {},
   "outputs": [],
   "source": [
    "y_pred = lr.predict(X_test)"
   ]
  },
  {
   "cell_type": "code",
   "execution_count": 14,
   "id": "22c4f4dd-b392-4695-b995-23009a5d4757",
   "metadata": {},
   "outputs": [
    {
     "name": "stdout",
     "output_type": "stream",
     "text": [
      "MAE 45.17082554165505\n",
      "MSE 3724.5435371354565\n",
      "R2_Score 0.6772237685004465\n"
     ]
    }
   ],
   "source": [
    "print(\"MAE\",mean_absolute_error(y_test,y_pred))\n",
    "print(\"MSE\",mean_squared_error(y_test,y_pred))\n",
    "print(\"R2_Score\",r2_score(y_test,y_pred))"
   ]
  },
  {
   "cell_type": "code",
   "execution_count": 17,
   "id": "f3ce26f0-da41-44ef-8172-18d31fcf1b7b",
   "metadata": {},
   "outputs": [],
   "source": [
    "x = np.linspace(-5, 5, 10)\n",
    "y = np.linspace(-5, 5, 10)\n",
    "\n",
    "# Create a meshgrid\n",
    "xGrid, yGrid = np.meshgrid(x, y)\n",
    "\n",
    "# Stack xGrid and yGrid into a (100, 2) array for prediction\n",
    "final = np.vstack((xGrid.ravel(), yGrid.ravel())).T\n",
    "\n",
    "# Predict using the model\n",
    "z_final = lr.predict(final).reshape(10, 10)\n",
    "\n",
    "# Assign the reshaped predictions to z\n",
    "z = z_final"
   ]
  },
  {
   "cell_type": "code",
   "execution_count": 18,
   "id": "cf8853f8-c2bc-4a7d-9e16-35f137e0e1f3",
   "metadata": {},
   "outputs": [
    {
     "data": {
      "application/vnd.plotly.v1+json": {
       "config": {
        "plotlyServerURL": "https://plot.ly"
       },
       "data": [
        {
         "hovertemplate": "feature1=%{x}<br>feature2=%{y}<br>target=%{z}<extra></extra>",
         "legendgroup": "",
         "marker": {
          "color": "#636efa",
          "symbol": "circle"
         },
         "mode": "markers",
         "name": "",
         "scene": "scene",
         "showlegend": false,
         "type": "scatter3d",
         "x": [
          0.10002466486231301,
          0.7370334735696612,
          0.7490811515763292,
          -0.05918017464758382,
          1.5688848551883638,
          0.0019086683218046338,
          0.7453265395242933,
          -0.5212844656692234,
          0.9681545368588906,
          -0.2650755646556446,
          0.9076415562832878,
          2.3542107213680485,
          -0.06717811877734468,
          -0.33861277357478053,
          0.7058928367970676,
          -2.7341930913886077,
          0.7861656633770086,
          0.45730757217323453,
          -0.45461255474075934,
          1.978053470411741,
          -3.641060577551044,
          1.674364630769335,
          0.3107972553496606,
          -0.8161757060615782,
          1.1426945689892911,
          0.4660275569154945,
          1.1385453241841608,
          0.12669169587717435,
          -2.2712820476686293,
          -0.33210578799358204,
          -0.7200223243023882,
          -0.6325190937983713,
          0.5078314592207261,
          0.5160642625152788,
          -0.20704643328983707,
          0.11903746830894202,
          0.26668340228019083,
          -0.6303581838371634,
          0.3829351431581874,
          1.235904472609663,
          -0.4402289133076698,
          -0.9027698796708689,
          0.008566561636746801,
          -0.10696731584875815,
          0.5960707271229325,
          0.7553634913110876,
          -1.5429367390894388,
          -0.7687354431506201,
          0.6399700333705545,
          0.7577183309820055,
          -0.6044248980322624,
          -1.483970342223675,
          0.26772893589546165,
          0.012496783061049978,
          0.8752361061750701,
          0.14429814483588865,
          0.5226018118200103,
          -1.006866687936048,
          -1.1103738444386975,
          0.18352858039769696,
          -1.480249231822065,
          -0.28429674235932073,
          0.22376524530619935,
          -0.1964801239013066,
          0.5886016568259332,
          0.8655102279325004,
          -0.43635088679825357,
          -2.029546346981814,
          -0.36731924152954903,
          0.6684349515110155,
          1.3711184085753265,
          -0.3220289069576444,
          0.3806401927611005,
          2.002108317305951,
          -0.36706049209408964,
          1.3750206219339447,
          -0.2637011350319687,
          1.2425641409200643,
          -1.0671179801863253,
          0.11582268949960879,
          -0.059390480346913195,
          -0.6708254832960233,
          -0.6957688006684838,
          0.32164552398311963,
          -0.7036412125441772,
          2.4315344336993845,
          -0.4774682545085541,
          0.6561272446000316,
          -0.698265404973852,
          0.8478395033765596,
          -0.420977803441137,
          0.33764192191285824,
          0.8121695401364278,
          -0.6080559682348234,
          -0.9927583595425163,
          0.34846899493334804,
          -0.7434041097324414,
          0.5525858547117498,
          -1.3429557779592693,
          -0.5303016593615473
         ],
         "y": [
          0.7504575452429996,
          -0.6547466979152433,
          0.6137457880627195,
          -0.45040988756762484,
          -0.9139025788049584,
          -0.5424925943243418,
          -0.7706593746127599,
          1.7384356197954725,
          -0.42444929104138157,
          -0.5924814687991995,
          -0.9591374097067019,
          -0.2836674032332486,
          0.7373176084511782,
          0.46022734717381536,
          0.42439530165855444,
          1.745233695663283,
          2.163583281719818,
          0.9798234098368372,
          -0.9073086175822689,
          -1.7718087911791636,
          -0.34573584620927195,
          1.0005854154624818,
          -1.723990038653871,
          -0.5329527820522756,
          -0.4247926595664567,
          0.5803760147562634,
          -0.6283305064181296,
          0.12514087900522167,
          -0.19498197362624906,
          0.5014954681480256,
          1.3228776706855774,
          0.677314914245078,
          -0.2602007632342747,
          1.0627306380409167,
          -2.159681186462957,
          0.2668376898039869,
          -0.06341833080450732,
          1.7366901636557706,
          -1.185599036366392,
          -0.6462517369657405,
          0.06005596766978464,
          0.8408814572823331,
          -1.1947664537513376,
          0.7486556829310943,
          1.9531333851045145,
          -1.0665778398947607,
          -0.7685563623327784,
          -0.9175832023694881,
          -0.014853205517451003,
          -0.4168327740989296,
          0.7456897460115863,
          -0.28108230831837,
          1.6160081366295154,
          -0.5296295950875428,
          0.07728910260618843,
          0.29141526098425935,
          0.22379251129714306,
          -0.21368869783377634,
          1.670255699620357,
          1.1857194241410662,
          -0.31633067668700743,
          -1.5013391259448388,
          0.12675231161964207,
          0.15606888626146637,
          -1.3286912368942465,
          0.25635959506870093,
          1.7120298844893247,
          1.993195723257296,
          0.41636096799916295,
          -0.39590932907699034,
          -1.4429288594247507,
          0.25503719952918824,
          -0.8458963491122914,
          0.046859229423564804,
          0.03879756853209727,
          -0.6787186995030942,
          0.3221385827182774,
          0.8395569125863974,
          -0.026784006212477934,
          0.09701535041179064,
          0.18301102896186736,
          0.8866250188035745,
          -1.3025813021334542,
          -0.16529744917442282,
          -0.3708363093217664,
          -0.41123032849812724,
          -0.2001426458894086,
          -1.0514389155383148,
          -0.21028047514042247,
          -0.155528711403862,
          0.4529040701493943,
          0.37650793043249875,
          -0.287009970064455,
          1.9912107314578416,
          0.1747890991394867,
          0.49703656671461893,
          1.3275162041765236,
          0.9572509848439588,
          -0.7098014344875074,
          -1.272099630028364
         ],
         "z": [
          20.592630851225472,
          10.331297789633588,
          155.8458000535063,
          -76.90403299980096,
          -1.6167465835603092,
          -20.757463799844828,
          -29.330097134662783,
          85.8647720203469,
          30.340291137485394,
          -69.30533249773697,
          -73.77182792978131,
          69.22511575409816,
          95.49140417021535,
          52.82387665096881,
          -30.737843028209795,
          3.1357989626349188,
          79.75325991234926,
          -16.05792879965948,
          -94.47246687972714,
          -66.38710736875633,
          -217.6969779707433,
          204.1132518014751,
          -90.3300061688754,
          -69.9863298901284,
          130.30495151588582,
          -55.34313188825851,
          71.47875499288476,
          62.4369152182109,
          -29.163728698411333,
          -54.88907799893346,
          54.1519302386093,
          19.66424943589854,
          1.462530003735699,
          114.71055171782308,
          -184.13630845578396,
          50.85604136413296,
          77.76604254366913,
          48.01782623138088,
          -30.437159544181597,
          -14.117854531322909,
          -97.2219768909661,
          -32.17873770622906,
          -44.63623202416944,
          49.96328701836097,
          177.07465463653705,
          14.507669068558869,
          -145.8641512772807,
          -84.5675620365368,
          -118.0794124735186,
          -58.921391709020995,
          -31.77012307524585,
          -174.87457959730625,
          215.38855527127254,
          -115.12194203312733,
          152.07195016783447,
          -51.35983062460268,
          55.992680241700896,
          12.514109518953362,
          80.33704920875377,
          77.22932602099715,
          -57.638165857494855,
          -94.18603605418969,
          1.1443431373513597,
          -7.455779874606446,
          -101.10624672591513,
          25.518761323495873,
          47.828293429807715,
          71.41511531689116,
          53.34910236322348,
          -30.73150373336354,
          -97.07389169955707,
          -156.43394874968612,
          -136.98991627765352,
          184.69678805238271,
          -29.891911326208557,
          61.00617858010296,
          -10.521752565768342,
          180.7069051193925,
          -118.28014978759998,
          98.21555261421376,
          -8.94389616539434,
          22.53122371202754,
          -130.94467916865463,
          16.936481505565656,
          -47.844460170148565,
          74.28556765916146,
          -72.37901484035761,
          -43.63425281893334,
          -13.19336008230782,
          -26.11786174089907,
          -0.7740519961978194,
          102.03536892622856,
          -14.628370824876205,
          153.1765632891849,
          0.3711240778802427,
          -2.2815553498651866,
          178.55240631998052,
          130.38934894353244,
          -96.18304113094372,
          -62.79646921951811
         ]
        },
        {
         "colorscale": [
          [
           0,
           "#440154"
          ],
          [
           0.1111111111111111,
           "#482878"
          ],
          [
           0.2222222222222222,
           "#3e4989"
          ],
          [
           0.3333333333333333,
           "#31688e"
          ],
          [
           0.4444444444444444,
           "#26828e"
          ],
          [
           0.5555555555555556,
           "#1f9e89"
          ],
          [
           0.6666666666666666,
           "#35b779"
          ],
          [
           0.7777777777777778,
           "#6ece58"
          ],
          [
           0.8888888888888888,
           "#b5de2b"
          ],
          [
           1,
           "#fde725"
          ]
         ],
         "opacity": 0.5,
         "type": "surface",
         "x": [
          [
           -5,
           -3.888888888888889,
           -2.7777777777777777,
           -1.6666666666666665,
           -0.5555555555555554,
           0.5555555555555554,
           1.666666666666667,
           2.7777777777777786,
           3.8888888888888893,
           5
          ],
          [
           -5,
           -3.888888888888889,
           -2.7777777777777777,
           -1.6666666666666665,
           -0.5555555555555554,
           0.5555555555555554,
           1.666666666666667,
           2.7777777777777786,
           3.8888888888888893,
           5
          ],
          [
           -5,
           -3.888888888888889,
           -2.7777777777777777,
           -1.6666666666666665,
           -0.5555555555555554,
           0.5555555555555554,
           1.666666666666667,
           2.7777777777777786,
           3.8888888888888893,
           5
          ],
          [
           -5,
           -3.888888888888889,
           -2.7777777777777777,
           -1.6666666666666665,
           -0.5555555555555554,
           0.5555555555555554,
           1.666666666666667,
           2.7777777777777786,
           3.8888888888888893,
           5
          ],
          [
           -5,
           -3.888888888888889,
           -2.7777777777777777,
           -1.6666666666666665,
           -0.5555555555555554,
           0.5555555555555554,
           1.666666666666667,
           2.7777777777777786,
           3.8888888888888893,
           5
          ],
          [
           -5,
           -3.888888888888889,
           -2.7777777777777777,
           -1.6666666666666665,
           -0.5555555555555554,
           0.5555555555555554,
           1.666666666666667,
           2.7777777777777786,
           3.8888888888888893,
           5
          ],
          [
           -5,
           -3.888888888888889,
           -2.7777777777777777,
           -1.6666666666666665,
           -0.5555555555555554,
           0.5555555555555554,
           1.666666666666667,
           2.7777777777777786,
           3.8888888888888893,
           5
          ],
          [
           -5,
           -3.888888888888889,
           -2.7777777777777777,
           -1.6666666666666665,
           -0.5555555555555554,
           0.5555555555555554,
           1.666666666666667,
           2.7777777777777786,
           3.8888888888888893,
           5
          ],
          [
           -5,
           -3.888888888888889,
           -2.7777777777777777,
           -1.6666666666666665,
           -0.5555555555555554,
           0.5555555555555554,
           1.666666666666667,
           2.7777777777777786,
           3.8888888888888893,
           5
          ],
          [
           -5,
           -3.888888888888889,
           -2.7777777777777777,
           -1.6666666666666665,
           -0.5555555555555554,
           0.5555555555555554,
           1.666666666666667,
           2.7777777777777786,
           3.8888888888888893,
           5
          ]
         ],
         "y": [
          [
           -5,
           -5,
           -5,
           -5,
           -5,
           -5,
           -5,
           -5,
           -5,
           -5
          ],
          [
           -3.888888888888889,
           -3.888888888888889,
           -3.888888888888889,
           -3.888888888888889,
           -3.888888888888889,
           -3.888888888888889,
           -3.888888888888889,
           -3.888888888888889,
           -3.888888888888889,
           -3.888888888888889
          ],
          [
           -2.7777777777777777,
           -2.7777777777777777,
           -2.7777777777777777,
           -2.7777777777777777,
           -2.7777777777777777,
           -2.7777777777777777,
           -2.7777777777777777,
           -2.7777777777777777,
           -2.7777777777777777,
           -2.7777777777777777
          ],
          [
           -1.6666666666666665,
           -1.6666666666666665,
           -1.6666666666666665,
           -1.6666666666666665,
           -1.6666666666666665,
           -1.6666666666666665,
           -1.6666666666666665,
           -1.6666666666666665,
           -1.6666666666666665,
           -1.6666666666666665
          ],
          [
           -0.5555555555555554,
           -0.5555555555555554,
           -0.5555555555555554,
           -0.5555555555555554,
           -0.5555555555555554,
           -0.5555555555555554,
           -0.5555555555555554,
           -0.5555555555555554,
           -0.5555555555555554,
           -0.5555555555555554
          ],
          [
           0.5555555555555554,
           0.5555555555555554,
           0.5555555555555554,
           0.5555555555555554,
           0.5555555555555554,
           0.5555555555555554,
           0.5555555555555554,
           0.5555555555555554,
           0.5555555555555554,
           0.5555555555555554
          ],
          [
           1.666666666666667,
           1.666666666666667,
           1.666666666666667,
           1.666666666666667,
           1.666666666666667,
           1.666666666666667,
           1.666666666666667,
           1.666666666666667,
           1.666666666666667,
           1.666666666666667
          ],
          [
           2.7777777777777786,
           2.7777777777777786,
           2.7777777777777786,
           2.7777777777777786,
           2.7777777777777786,
           2.7777777777777786,
           2.7777777777777786,
           2.7777777777777786,
           2.7777777777777786,
           2.7777777777777786
          ],
          [
           3.8888888888888893,
           3.8888888888888893,
           3.8888888888888893,
           3.8888888888888893,
           3.8888888888888893,
           3.8888888888888893,
           3.8888888888888893,
           3.8888888888888893,
           3.8888888888888893,
           3.8888888888888893
          ],
          [
           5,
           5,
           5,
           5,
           5,
           5,
           5,
           5,
           5,
           5
          ]
         ],
         "z": [
          [
           -571.3599735206818,
           -519.757442938857,
           -468.1549123570322,
           -416.5523817752073,
           -364.94985119338253,
           -313.34732061155773,
           -261.7447900297329,
           -210.142259447908,
           -158.5397288660832,
           -106.93719828425843
          ],
          [
           -497.21336733587935,
           -445.6108367540545,
           -394.0083061722297,
           -342.4057755904049,
           -290.80324500858006,
           -239.20071442675524,
           -187.5981838449304,
           -135.99565326310554,
           -84.39312268128076,
           -32.79059209945596
          ],
          [
           -423.0667611510769,
           -371.4642305692521,
           -319.8616999874273,
           -268.25916940560245,
           -216.6566388237776,
           -165.0541082419528,
           -113.45157766012797,
           -61.84904707830311,
           -10.246516496478316,
           41.35601408534648
          ],
          [
           -348.9201549662745,
           -297.31762438444963,
           -245.7150938026248,
           -194.11256322079996,
           -142.51003263897516,
           -90.90750205715037,
           -39.30497147532551,
           12.29755910649934,
           63.90008968832414,
           115.50262027014892
          ],
          [
           -274.773548781472,
           -223.17101819964716,
           -171.56848761782234,
           -119.96595703599753,
           -68.36342645417271,
           -16.76089587234791,
           34.84163470947694,
           86.44416529130179,
           138.0466958731266,
           189.6492264549514
          ],
          [
           -200.62694259666958,
           -149.02441201484476,
           -97.42188143301995,
           -45.81935085119512,
           5.7831797306296995,
           57.3857103124545,
           108.98824089427934,
           160.5907714761042,
           212.193302057929,
           263.79583263975377
          ],
          [
           -126.48033641186711,
           -74.87780583004229,
           -23.27527524821746,
           28.32725533360736,
           79.92978591543218,
           131.532316497257,
           183.13484707908182,
           234.73737766090667,
           286.33990824273144,
           337.94243882455623
          ],
          [
           -52.33373022706463,
           -0.7311996452398066,
           50.87133093658502,
           102.47386151840983,
           154.07639210023467,
           205.67892268205946,
           257.28145326388426,
           308.88398384570917,
           360.48651442753396,
           412.08904500935876
          ],
          [
           21.812875957737752,
           73.41540653956257,
           125.01793712138739,
           176.62046770321223,
           228.22299828503705,
           279.8255288668618,
           331.42805944868667,
           383.0305900305115,
           434.6331206123363,
           486.2356511941611
          ],
          [
           95.95948214254021,
           147.56201272436505,
           199.16454330618987,
           250.76707388801472,
           302.3696044698395,
           353.9721350516643,
           405.57466563348913,
           457.177196215314,
           508.7797267971388,
           560.3822573789636
          ]
         ]
        }
       ],
       "layout": {
        "autosize": true,
        "legend": {
         "tracegroupgap": 0
        },
        "margin": {
         "t": 60
        },
        "scene": {
         "aspectmode": "auto",
         "aspectratio": {
          "x": 1,
          "y": 1,
          "z": 1
         },
         "camera": {
          "center": {
           "x": 0,
           "y": 0,
           "z": 0
          },
          "eye": {
           "x": 6.905863597944365,
           "y": -0.5106374240028071,
           "z": 8.957613370462653
          },
          "projection": {
           "type": "perspective"
          },
          "up": {
           "x": 0.010017024308241758,
           "y": -0.009917668906231041,
           "z": 0.9999006445979893
          }
         },
         "domain": {
          "x": [
           0,
           1
          ],
          "y": [
           0,
           1
          ]
         },
         "xaxis": {
          "title": {
           "text": "feature1"
          },
          "type": "linear"
         },
         "yaxis": {
          "title": {
           "text": "feature2"
          },
          "type": "linear"
         },
         "zaxis": {
          "title": {
           "text": "target"
          },
          "type": "linear"
         }
        },
        "template": {
         "data": {
          "bar": [
           {
            "error_x": {
             "color": "#2a3f5f"
            },
            "error_y": {
             "color": "#2a3f5f"
            },
            "marker": {
             "line": {
              "color": "#E5ECF6",
              "width": 0.5
             },
             "pattern": {
              "fillmode": "overlay",
              "size": 10,
              "solidity": 0.2
             }
            },
            "type": "bar"
           }
          ],
          "barpolar": [
           {
            "marker": {
             "line": {
              "color": "#E5ECF6",
              "width": 0.5
             },
             "pattern": {
              "fillmode": "overlay",
              "size": 10,
              "solidity": 0.2
             }
            },
            "type": "barpolar"
           }
          ],
          "carpet": [
           {
            "aaxis": {
             "endlinecolor": "#2a3f5f",
             "gridcolor": "white",
             "linecolor": "white",
             "minorgridcolor": "white",
             "startlinecolor": "#2a3f5f"
            },
            "baxis": {
             "endlinecolor": "#2a3f5f",
             "gridcolor": "white",
             "linecolor": "white",
             "minorgridcolor": "white",
             "startlinecolor": "#2a3f5f"
            },
            "type": "carpet"
           }
          ],
          "choropleth": [
           {
            "colorbar": {
             "outlinewidth": 0,
             "ticks": ""
            },
            "type": "choropleth"
           }
          ],
          "contour": [
           {
            "colorbar": {
             "outlinewidth": 0,
             "ticks": ""
            },
            "colorscale": [
             [
              0,
              "#0d0887"
             ],
             [
              0.1111111111111111,
              "#46039f"
             ],
             [
              0.2222222222222222,
              "#7201a8"
             ],
             [
              0.3333333333333333,
              "#9c179e"
             ],
             [
              0.4444444444444444,
              "#bd3786"
             ],
             [
              0.5555555555555556,
              "#d8576b"
             ],
             [
              0.6666666666666666,
              "#ed7953"
             ],
             [
              0.7777777777777778,
              "#fb9f3a"
             ],
             [
              0.8888888888888888,
              "#fdca26"
             ],
             [
              1,
              "#f0f921"
             ]
            ],
            "type": "contour"
           }
          ],
          "contourcarpet": [
           {
            "colorbar": {
             "outlinewidth": 0,
             "ticks": ""
            },
            "type": "contourcarpet"
           }
          ],
          "heatmap": [
           {
            "colorbar": {
             "outlinewidth": 0,
             "ticks": ""
            },
            "colorscale": [
             [
              0,
              "#0d0887"
             ],
             [
              0.1111111111111111,
              "#46039f"
             ],
             [
              0.2222222222222222,
              "#7201a8"
             ],
             [
              0.3333333333333333,
              "#9c179e"
             ],
             [
              0.4444444444444444,
              "#bd3786"
             ],
             [
              0.5555555555555556,
              "#d8576b"
             ],
             [
              0.6666666666666666,
              "#ed7953"
             ],
             [
              0.7777777777777778,
              "#fb9f3a"
             ],
             [
              0.8888888888888888,
              "#fdca26"
             ],
             [
              1,
              "#f0f921"
             ]
            ],
            "type": "heatmap"
           }
          ],
          "heatmapgl": [
           {
            "colorbar": {
             "outlinewidth": 0,
             "ticks": ""
            },
            "colorscale": [
             [
              0,
              "#0d0887"
             ],
             [
              0.1111111111111111,
              "#46039f"
             ],
             [
              0.2222222222222222,
              "#7201a8"
             ],
             [
              0.3333333333333333,
              "#9c179e"
             ],
             [
              0.4444444444444444,
              "#bd3786"
             ],
             [
              0.5555555555555556,
              "#d8576b"
             ],
             [
              0.6666666666666666,
              "#ed7953"
             ],
             [
              0.7777777777777778,
              "#fb9f3a"
             ],
             [
              0.8888888888888888,
              "#fdca26"
             ],
             [
              1,
              "#f0f921"
             ]
            ],
            "type": "heatmapgl"
           }
          ],
          "histogram": [
           {
            "marker": {
             "pattern": {
              "fillmode": "overlay",
              "size": 10,
              "solidity": 0.2
             }
            },
            "type": "histogram"
           }
          ],
          "histogram2d": [
           {
            "colorbar": {
             "outlinewidth": 0,
             "ticks": ""
            },
            "colorscale": [
             [
              0,
              "#0d0887"
             ],
             [
              0.1111111111111111,
              "#46039f"
             ],
             [
              0.2222222222222222,
              "#7201a8"
             ],
             [
              0.3333333333333333,
              "#9c179e"
             ],
             [
              0.4444444444444444,
              "#bd3786"
             ],
             [
              0.5555555555555556,
              "#d8576b"
             ],
             [
              0.6666666666666666,
              "#ed7953"
             ],
             [
              0.7777777777777778,
              "#fb9f3a"
             ],
             [
              0.8888888888888888,
              "#fdca26"
             ],
             [
              1,
              "#f0f921"
             ]
            ],
            "type": "histogram2d"
           }
          ],
          "histogram2dcontour": [
           {
            "colorbar": {
             "outlinewidth": 0,
             "ticks": ""
            },
            "colorscale": [
             [
              0,
              "#0d0887"
             ],
             [
              0.1111111111111111,
              "#46039f"
             ],
             [
              0.2222222222222222,
              "#7201a8"
             ],
             [
              0.3333333333333333,
              "#9c179e"
             ],
             [
              0.4444444444444444,
              "#bd3786"
             ],
             [
              0.5555555555555556,
              "#d8576b"
             ],
             [
              0.6666666666666666,
              "#ed7953"
             ],
             [
              0.7777777777777778,
              "#fb9f3a"
             ],
             [
              0.8888888888888888,
              "#fdca26"
             ],
             [
              1,
              "#f0f921"
             ]
            ],
            "type": "histogram2dcontour"
           }
          ],
          "mesh3d": [
           {
            "colorbar": {
             "outlinewidth": 0,
             "ticks": ""
            },
            "type": "mesh3d"
           }
          ],
          "parcoords": [
           {
            "line": {
             "colorbar": {
              "outlinewidth": 0,
              "ticks": ""
             }
            },
            "type": "parcoords"
           }
          ],
          "pie": [
           {
            "automargin": true,
            "type": "pie"
           }
          ],
          "scatter": [
           {
            "fillpattern": {
             "fillmode": "overlay",
             "size": 10,
             "solidity": 0.2
            },
            "type": "scatter"
           }
          ],
          "scatter3d": [
           {
            "line": {
             "colorbar": {
              "outlinewidth": 0,
              "ticks": ""
             }
            },
            "marker": {
             "colorbar": {
              "outlinewidth": 0,
              "ticks": ""
             }
            },
            "type": "scatter3d"
           }
          ],
          "scattercarpet": [
           {
            "marker": {
             "colorbar": {
              "outlinewidth": 0,
              "ticks": ""
             }
            },
            "type": "scattercarpet"
           }
          ],
          "scattergeo": [
           {
            "marker": {
             "colorbar": {
              "outlinewidth": 0,
              "ticks": ""
             }
            },
            "type": "scattergeo"
           }
          ],
          "scattergl": [
           {
            "marker": {
             "colorbar": {
              "outlinewidth": 0,
              "ticks": ""
             }
            },
            "type": "scattergl"
           }
          ],
          "scattermapbox": [
           {
            "marker": {
             "colorbar": {
              "outlinewidth": 0,
              "ticks": ""
             }
            },
            "type": "scattermapbox"
           }
          ],
          "scatterpolar": [
           {
            "marker": {
             "colorbar": {
              "outlinewidth": 0,
              "ticks": ""
             }
            },
            "type": "scatterpolar"
           }
          ],
          "scatterpolargl": [
           {
            "marker": {
             "colorbar": {
              "outlinewidth": 0,
              "ticks": ""
             }
            },
            "type": "scatterpolargl"
           }
          ],
          "scatterternary": [
           {
            "marker": {
             "colorbar": {
              "outlinewidth": 0,
              "ticks": ""
             }
            },
            "type": "scatterternary"
           }
          ],
          "surface": [
           {
            "colorbar": {
             "outlinewidth": 0,
             "ticks": ""
            },
            "colorscale": [
             [
              0,
              "#0d0887"
             ],
             [
              0.1111111111111111,
              "#46039f"
             ],
             [
              0.2222222222222222,
              "#7201a8"
             ],
             [
              0.3333333333333333,
              "#9c179e"
             ],
             [
              0.4444444444444444,
              "#bd3786"
             ],
             [
              0.5555555555555556,
              "#d8576b"
             ],
             [
              0.6666666666666666,
              "#ed7953"
             ],
             [
              0.7777777777777778,
              "#fb9f3a"
             ],
             [
              0.8888888888888888,
              "#fdca26"
             ],
             [
              1,
              "#f0f921"
             ]
            ],
            "type": "surface"
           }
          ],
          "table": [
           {
            "cells": {
             "fill": {
              "color": "#EBF0F8"
             },
             "line": {
              "color": "white"
             }
            },
            "header": {
             "fill": {
              "color": "#C8D4E3"
             },
             "line": {
              "color": "white"
             }
            },
            "type": "table"
           }
          ]
         },
         "layout": {
          "annotationdefaults": {
           "arrowcolor": "#2a3f5f",
           "arrowhead": 0,
           "arrowwidth": 1
          },
          "autotypenumbers": "strict",
          "coloraxis": {
           "colorbar": {
            "outlinewidth": 0,
            "ticks": ""
           }
          },
          "colorscale": {
           "diverging": [
            [
             0,
             "#8e0152"
            ],
            [
             0.1,
             "#c51b7d"
            ],
            [
             0.2,
             "#de77ae"
            ],
            [
             0.3,
             "#f1b6da"
            ],
            [
             0.4,
             "#fde0ef"
            ],
            [
             0.5,
             "#f7f7f7"
            ],
            [
             0.6,
             "#e6f5d0"
            ],
            [
             0.7,
             "#b8e186"
            ],
            [
             0.8,
             "#7fbc41"
            ],
            [
             0.9,
             "#4d9221"
            ],
            [
             1,
             "#276419"
            ]
           ],
           "sequential": [
            [
             0,
             "#0d0887"
            ],
            [
             0.1111111111111111,
             "#46039f"
            ],
            [
             0.2222222222222222,
             "#7201a8"
            ],
            [
             0.3333333333333333,
             "#9c179e"
            ],
            [
             0.4444444444444444,
             "#bd3786"
            ],
            [
             0.5555555555555556,
             "#d8576b"
            ],
            [
             0.6666666666666666,
             "#ed7953"
            ],
            [
             0.7777777777777778,
             "#fb9f3a"
            ],
            [
             0.8888888888888888,
             "#fdca26"
            ],
            [
             1,
             "#f0f921"
            ]
           ],
           "sequentialminus": [
            [
             0,
             "#0d0887"
            ],
            [
             0.1111111111111111,
             "#46039f"
            ],
            [
             0.2222222222222222,
             "#7201a8"
            ],
            [
             0.3333333333333333,
             "#9c179e"
            ],
            [
             0.4444444444444444,
             "#bd3786"
            ],
            [
             0.5555555555555556,
             "#d8576b"
            ],
            [
             0.6666666666666666,
             "#ed7953"
            ],
            [
             0.7777777777777778,
             "#fb9f3a"
            ],
            [
             0.8888888888888888,
             "#fdca26"
            ],
            [
             1,
             "#f0f921"
            ]
           ]
          },
          "colorway": [
           "#636efa",
           "#EF553B",
           "#00cc96",
           "#ab63fa",
           "#FFA15A",
           "#19d3f3",
           "#FF6692",
           "#B6E880",
           "#FF97FF",
           "#FECB52"
          ],
          "font": {
           "color": "#2a3f5f"
          },
          "geo": {
           "bgcolor": "white",
           "lakecolor": "white",
           "landcolor": "#E5ECF6",
           "showlakes": true,
           "showland": true,
           "subunitcolor": "white"
          },
          "hoverlabel": {
           "align": "left"
          },
          "hovermode": "closest",
          "mapbox": {
           "style": "light"
          },
          "paper_bgcolor": "white",
          "plot_bgcolor": "#E5ECF6",
          "polar": {
           "angularaxis": {
            "gridcolor": "white",
            "linecolor": "white",
            "ticks": ""
           },
           "bgcolor": "#E5ECF6",
           "radialaxis": {
            "gridcolor": "white",
            "linecolor": "white",
            "ticks": ""
           }
          },
          "scene": {
           "xaxis": {
            "backgroundcolor": "#E5ECF6",
            "gridcolor": "white",
            "gridwidth": 2,
            "linecolor": "white",
            "showbackground": true,
            "ticks": "",
            "zerolinecolor": "white"
           },
           "yaxis": {
            "backgroundcolor": "#E5ECF6",
            "gridcolor": "white",
            "gridwidth": 2,
            "linecolor": "white",
            "showbackground": true,
            "ticks": "",
            "zerolinecolor": "white"
           },
           "zaxis": {
            "backgroundcolor": "#E5ECF6",
            "gridcolor": "white",
            "gridwidth": 2,
            "linecolor": "white",
            "showbackground": true,
            "ticks": "",
            "zerolinecolor": "white"
           }
          },
          "shapedefaults": {
           "line": {
            "color": "#2a3f5f"
           }
          },
          "ternary": {
           "aaxis": {
            "gridcolor": "white",
            "linecolor": "white",
            "ticks": ""
           },
           "baxis": {
            "gridcolor": "white",
            "linecolor": "white",
            "ticks": ""
           },
           "bgcolor": "#E5ECF6",
           "caxis": {
            "gridcolor": "white",
            "linecolor": "white",
            "ticks": ""
           }
          },
          "title": {
           "x": 0.05
          },
          "xaxis": {
           "automargin": true,
           "gridcolor": "white",
           "linecolor": "white",
           "ticks": "",
           "title": {
            "standoff": 15
           },
           "zerolinecolor": "white",
           "zerolinewidth": 2
          },
          "yaxis": {
           "automargin": true,
           "gridcolor": "white",
           "linecolor": "white",
           "ticks": "",
           "title": {
            "standoff": 15
           },
           "zerolinecolor": "white",
           "zerolinewidth": 2
          }
         }
        }
       }
      },
      "image/png": "[encoded data removed]",
      "text/html": [
       "<div>                            <div id=\"b8d565d4-9ee9-45d5-b341-182262f3cd26\" class=\"plotly-graph-div\" style=\"height:525px; width:100%;\"></div>            <script type=\"text/javascript\">                require([\"plotly\"], function(Plotly) {                    window.PLOTLYENV=window.PLOTLYENV || {};                                    if (document.getElementById(\"b8d565d4-9ee9-45d5-b341-182262f3cd26\")) {                    Plotly.newPlot(                        \"b8d565d4-9ee9-45d5-b341-182262f3cd26\",                        [{\"hovertemplate\":\"feature1=%{x}\\u003cbr\\u003efeature2=%{y}\\u003cbr\\u003etarget=%{z}\\u003cextra\\u003e\\u003c\\u002fextra\\u003e\",\"legendgroup\":\"\",\"marker\":{\"color\":\"#636efa\",\"symbol\":\"circle\"},\"mode\":\"markers\",\"name\":\"\",\"scene\":\"scene\",\"showlegend\":false,\"x\":[0.10002466486231301,0.7370334735696612,0.7490811515763292,-0.05918017464758382,1.5688848551883638,0.0019086683218046338,0.7453265395242933,-0.5212844656692234,0.9681545368588906,-0.2650755646556446,0.9076415562832878,2.3542107213680485,-0.06717811877734468,-0.33861277357478053,0.7058928367970676,-2.7341930913886077,0.7861656633770086,0.45730757217323453,-0.45461255474075934,1.978053470411741,-3.641060577551044,1.674364630769335,0.3107972553496606,-0.8161757060615782,1.1426945689892911,0.4660275569154945,1.1385453241841608,0.12669169587717435,-2.2712820476686293,-0.33210578799358204,-0.7200223243023882,-0.6325190937983713,0.5078314592207261,0.5160642625152788,-0.20704643328983707,0.11903746830894202,0.26668340228019083,-0.6303581838371634,0.3829351431581874,1.235904472609663,-0.4402289133076698,-0.9027698796708689,0.008566561636746801,-0.10696731584875815,0.5960707271229325,0.7553634913110876,-1.5429367390894388,-0.7687354431506201,0.6399700333705545,0.7577183309820055,-0.6044248980322624,-1.483970342223675,0.26772893589546165,0.012496783061049978,0.8752361061750701,0.14429814483588865,0.5226018118200103,-1.006866687936048,-1.1103738444386975,0.18352858039769696,-1.480249231822065,-0.28429674235932073,0.22376524530619935,-0.1964801239013066,0.5886016568259332,0.8655102279325004,-0.43635088679825357,-2.029546346981814,-0.36731924152954903,0.6684349515110155,1.3711184085753265,-0.3220289069576444,0.3806401927611005,2.002108317305951,-0.36706049209408964,1.3750206219339447,-0.2637011350319687,1.2425641409200643,-1.0671179801863253,0.11582268949960879,-0.059390480346913195,-0.6708254832960233,-0.6957688006684838,0.32164552398311963,-0.7036412125441772,2.4315344336993845,-0.4774682545085541,0.6561272446000316,-0.698265404973852,0.8478395033765596,-0.420977803441137,0.33764192191285824,0.8121695401364278,-0.6080559682348234,-0.9927583595425163,0.34846899493334804,-0.7434041097324414,0.5525858547117498,-1.3429557779592693,-0.5303016593615473],\"y\":[0.7504575452429996,-0.6547466979152433,0.6137457880627195,-0.45040988756762484,-0.9139025788049584,-0.5424925943243418,-0.7706593746127599,1.7384356197954725,-0.42444929104138157,-0.5924814687991995,-0.9591374097067019,-0.2836674032332486,0.7373176084511782,0.46022734717381536,0.42439530165855444,1.745233695663283,2.163583281719818,0.9798234098368372,-0.9073086175822689,-1.7718087911791636,-0.34573584620927195,1.0005854154624818,-1.723990038653871,-0.5329527820522756,-0.4247926595664567,0.5803760147562634,-0.6283305064181296,0.12514087900522167,-0.19498197362624906,0.5014954681480256,1.3228776706855774,0.677314914245078,-0.2602007632342747,1.0627306380409167,-2.159681186462957,0.2668376898039869,-0.06341833080450732,1.7366901636557706,-1.185599036366392,-0.6462517369657405,0.06005596766978464,0.8408814572823331,-1.1947664537513376,0.7486556829310943,1.9531333851045145,-1.0665778398947607,-0.7685563623327784,-0.9175832023694881,-0.014853205517451003,-0.4168327740989296,0.7456897460115863,-0.28108230831837,1.6160081366295154,-0.5296295950875428,0.07728910260618843,0.29141526098425935,0.22379251129714306,-0.21368869783377634,1.670255699620357,1.1857194241410662,-0.31633067668700743,-1.5013391259448388,0.12675231161964207,0.15606888626146637,-1.3286912368942465,0.25635959506870093,1.7120298844893247,1.993195723257296,0.41636096799916295,-0.39590932907699034,-1.4429288594247507,0.25503719952918824,-0.8458963491122914,0.046859229423564804,0.03879756853209727,-0.6787186995030942,0.3221385827182774,0.8395569125863974,-0.026784006212477934,0.09701535041179064,0.18301102896186736,0.8866250188035745,-1.3025813021334542,-0.16529744917442282,-0.3708363093217664,-0.41123032849812724,-0.2001426458894086,-1.0514389155383148,-0.21028047514042247,-0.155528711403862,0.4529040701493943,0.37650793043249875,-0.287009970064455,1.9912107314578416,0.1747890991394867,0.49703656671461893,1.3275162041765236,0.9572509848439588,-0.7098014344875074,-1.272099630028364],\"z\":[20.592630851225472,10.331297789633588,155.8458000535063,-76.90403299980096,-1.6167465835603092,-20.757463799844828,-29.330097134662783,85.8647720203469,30.340291137485394,-69.30533249773697,-73.77182792978131,69.22511575409816,95.49140417021535,52.82387665096881,-30.737843028209795,3.1357989626349188,79.75325991234926,-16.05792879965948,-94.47246687972714,-66.38710736875633,-217.6969779707433,204.1132518014751,-90.3300061688754,-69.9863298901284,130.30495151588582,-55.34313188825851,71.47875499288476,62.4369152182109,-29.163728698411333,-54.88907799893346,54.1519302386093,19.66424943589854,1.462530003735699,114.71055171782308,-184.13630845578396,50.85604136413296,77.76604254366913,48.01782623138088,-30.437159544181597,-14.117854531322909,-97.2219768909661,-32.17873770622906,-44.63623202416944,49.96328701836097,177.07465463653705,14.507669068558869,-145.8641512772807,-84.5675620365368,-118.0794124735186,-58.921391709020995,-31.77012307524585,-174.87457959730625,215.38855527127254,-115.12194203312733,152.07195016783447,-51.35983062460268,55.992680241700896,12.514109518953362,80.33704920875377,77.22932602099715,-57.638165857494855,-94.18603605418969,1.1443431373513597,-7.455779874606446,-101.10624672591513,25.518761323495873,47.828293429807715,71.41511531689116,53.34910236322348,-30.73150373336354,-97.07389169955707,-156.43394874968612,-136.98991627765352,184.69678805238271,-29.891911326208557,61.00617858010296,-10.521752565768342,180.7069051193925,-118.28014978759998,98.21555261421376,-8.94389616539434,22.53122371202754,-130.94467916865463,16.936481505565656,-47.844460170148565,74.28556765916146,-72.37901484035761,-43.63425281893334,-13.19336008230782,-26.11786174089907,-0.7740519961978194,102.03536892622856,-14.628370824876205,153.1765632891849,0.3711240778802427,-2.2815553498651866,178.55240631998052,130.38934894353244,-96.18304113094372,-62.79646921951811],\"type\":\"scatter3d\"},{\"colorscale\":[[0.0,\"#440154\"],[0.1111111111111111,\"#482878\"],[0.2222222222222222,\"#3e4989\"],[0.3333333333333333,\"#31688e\"],[0.4444444444444444,\"#26828e\"],[0.5555555555555556,\"#1f9e89\"],[0.6666666666666666,\"#35b779\"],[0.7777777777777778,\"#6ece58\"],[0.8888888888888888,\"#b5de2b\"],[1.0,\"#fde725\"]],\"opacity\":0.5,\"x\":[[-5.0,-3.888888888888889,-2.7777777777777777,-1.6666666666666665,-0.5555555555555554,0.5555555555555554,1.666666666666667,2.7777777777777786,3.8888888888888893,5.0],[-5.0,-3.888888888888889,-2.7777777777777777,-1.6666666666666665,-0.5555555555555554,0.5555555555555554,1.666666666666667,2.7777777777777786,3.8888888888888893,5.0],[-5.0,-3.888888888888889,-2.7777777777777777,-1.6666666666666665,-0.5555555555555554,0.5555555555555554,1.666666666666667,2.7777777777777786,3.8888888888888893,5.0],[-5.0,-3.888888888888889,-2.7777777777777777,-1.6666666666666665,-0.5555555555555554,0.5555555555555554,1.666666666666667,2.7777777777777786,3.8888888888888893,5.0],[-5.0,-3.888888888888889,-2.7777777777777777,-1.6666666666666665,-0.5555555555555554,0.5555555555555554,1.666666666666667,2.7777777777777786,3.8888888888888893,5.0],[-5.0,-3.888888888888889,-2.7777777777777777,-1.6666666666666665,-0.5555555555555554,0.5555555555555554,1.666666666666667,2.7777777777777786,3.8888888888888893,5.0],[-5.0,-3.888888888888889,-2.7777777777777777,-1.6666666666666665,-0.5555555555555554,0.5555555555555554,1.666666666666667,2.7777777777777786,3.8888888888888893,5.0],[-5.0,-3.888888888888889,-2.7777777777777777,-1.6666666666666665,-0.5555555555555554,0.5555555555555554,1.666666666666667,2.7777777777777786,3.8888888888888893,5.0],[-5.0,-3.888888888888889,-2.7777777777777777,-1.6666666666666665,-0.5555555555555554,0.5555555555555554,1.666666666666667,2.7777777777777786,3.8888888888888893,5.0],[-5.0,-3.888888888888889,-2.7777777777777777,-1.6666666666666665,-0.5555555555555554,0.5555555555555554,1.666666666666667,2.7777777777777786,3.8888888888888893,5.0]],\"y\":[[-5.0,-5.0,-5.0,-5.0,-5.0,-5.0,-5.0,-5.0,-5.0,-5.0],[-3.888888888888889,-3.888888888888889,-3.888888888888889,-3.888888888888889,-3.888888888888889,-3.888888888888889,-3.888888888888889,-3.888888888888889,-3.888888888888889,-3.888888888888889],[-2.7777777777777777,-2.7777777777777777,-2.7777777777777777,-2.7777777777777777,-2.7777777777777777,-2.7777777777777777,-2.7777777777777777,-2.7777777777777777,-2.7777777777777777,-2.7777777777777777],[-1.6666666666666665,-1.6666666666666665,-1.6666666666666665,-1.6666666666666665,-1.6666666666666665,-1.6666666666666665,-1.6666666666666665,-1.6666666666666665,-1.6666666666666665,-1.6666666666666665],[-0.5555555555555554,-0.5555555555555554,-0.5555555555555554,-0.5555555555555554,-0.5555555555555554,-0.5555555555555554,-0.5555555555555554,-0.5555555555555554,-0.5555555555555554,-0.5555555555555554],[0.5555555555555554,0.5555555555555554,0.5555555555555554,0.5555555555555554,0.5555555555555554,0.5555555555555554,0.5555555555555554,0.5555555555555554,0.5555555555555554,0.5555555555555554],[1.666666666666667,1.666666666666667,1.666666666666667,1.666666666666667,1.666666666666667,1.666666666666667,1.666666666666667,1.666666666666667,1.666666666666667,1.666666666666667],[2.7777777777777786,2.7777777777777786,2.7777777777777786,2.7777777777777786,2.7777777777777786,2.7777777777777786,2.7777777777777786,2.7777777777777786,2.7777777777777786,2.7777777777777786],[3.8888888888888893,3.8888888888888893,3.8888888888888893,3.8888888888888893,3.8888888888888893,3.8888888888888893,3.8888888888888893,3.8888888888888893,3.8888888888888893,3.8888888888888893],[5.0,5.0,5.0,5.0,5.0,5.0,5.0,5.0,5.0,5.0]],\"z\":[[-571.3599735206818,-519.757442938857,-468.1549123570322,-416.5523817752073,-364.94985119338253,-313.34732061155773,-261.7447900297329,-210.142259447908,-158.5397288660832,-106.93719828425843],[-497.21336733587935,-445.6108367540545,-394.0083061722297,-342.4057755904049,-290.80324500858006,-239.20071442675524,-187.5981838449304,-135.99565326310554,-84.39312268128076,-32.79059209945596],[-423.0667611510769,-371.4642305692521,-319.8616999874273,-268.25916940560245,-216.6566388237776,-165.0541082419528,-113.45157766012797,-61.84904707830311,-10.246516496478316,41.35601408534648],[-348.9201549662745,-297.31762438444963,-245.7150938026248,-194.11256322079996,-142.51003263897516,-90.90750205715037,-39.30497147532551,12.29755910649934,63.90008968832414,115.50262027014892],[-274.773548781472,-223.17101819964716,-171.56848761782234,-119.96595703599753,-68.36342645417271,-16.76089587234791,34.84163470947694,86.44416529130179,138.0466958731266,189.6492264549514],[-200.62694259666958,-149.02441201484476,-97.42188143301995,-45.81935085119512,5.7831797306296995,57.3857103124545,108.98824089427934,160.5907714761042,212.193302057929,263.79583263975377],[-126.48033641186711,-74.87780583004229,-23.27527524821746,28.32725533360736,79.92978591543218,131.532316497257,183.13484707908182,234.73737766090667,286.33990824273144,337.94243882455623],[-52.33373022706463,-0.7311996452398066,50.87133093658502,102.47386151840983,154.07639210023467,205.67892268205946,257.28145326388426,308.88398384570917,360.48651442753396,412.08904500935876],[21.812875957737752,73.41540653956257,125.01793712138739,176.62046770321223,228.22299828503705,279.8255288668618,331.42805944868667,383.0305900305115,434.6331206123363,486.2356511941611],[95.95948214254021,147.56201272436505,199.16454330618987,250.76707388801472,302.3696044698395,353.9721350516643,405.57466563348913,457.177196215314,508.7797267971388,560.3822573789636]],\"type\":\"surface\"}],                        {\"template\":{\"data\":{\"histogram2dcontour\":[{\"type\":\"histogram2dcontour\",\"colorbar\":{\"outlinewidth\":0,\"ticks\":\"\"},\"colorscale\":[[0.0,\"#0d0887\"],[0.1111111111111111,\"#46039f\"],[0.2222222222222222,\"#7201a8\"],[0.3333333333333333,\"#9c179e\"],[0.4444444444444444,\"#bd3786\"],[0.5555555555555556,\"#d8576b\"],[0.6666666666666666,\"#ed7953\"],[0.7777777777777778,\"#fb9f3a\"],[0.8888888888888888,\"#fdca26\"],[1.0,\"#f0f921\"]]}],\"choropleth\":[{\"type\":\"choropleth\",\"colorbar\":{\"outlinewidth\":0,\"ticks\":\"\"}}],\"histogram2d\":[{\"type\":\"histogram2d\",\"colorbar\":{\"outlinewidth\":0,\"ticks\":\"\"},\"colorscale\":[[0.0,\"#0d0887\"],[0.1111111111111111,\"#46039f\"],[0.2222222222222222,\"#7201a8\"],[0.3333333333333333,\"#9c179e\"],[0.4444444444444444,\"#bd3786\"],[0.5555555555555556,\"#d8576b\"],[0.6666666666666666,\"#ed7953\"],[0.7777777777777778,\"#fb9f3a\"],[0.8888888888888888,\"#fdca26\"],[1.0,\"#f0f921\"]]}],\"heatmap\":[{\"type\":\"heatmap\",\"colorbar\":{\"outlinewidth\":0,\"ticks\":\"\"},\"colorscale\":[[0.0,\"#0d0887\"],[0.1111111111111111,\"#46039f\"],[0.2222222222222222,\"#7201a8\"],[0.3333333333333333,\"#9c179e\"],[0.4444444444444444,\"#bd3786\"],[0.5555555555555556,\"#d8576b\"],[0.6666666666666666,\"#ed7953\"],[0.7777777777777778,\"#fb9f3a\"],[0.8888888888888888,\"#fdca26\"],[1.0,\"#f0f921\"]]}],\"heatmapgl\":[{\"type\":\"heatmapgl\",\"colorbar\":{\"outlinewidth\":0,\"ticks\":\"\"},\"colorscale\":[[0.0,\"#0d0887\"],[0.1111111111111111,\"#46039f\"],[0.2222222222222222,\"#7201a8\"],[0.3333333333333333,\"#9c179e\"],[0.4444444444444444,\"#bd3786\"],[0.5555555555555556,\"#d8576b\"],[0.6666666666666666,\"#ed7953\"],[0.7777777777777778,\"#fb9f3a\"],[0.8888888888888888,\"#fdca26\"],[1.0,\"#f0f921\"]]}],\"contourcarpet\":[{\"type\":\"contourcarpet\",\"colorbar\":{\"outlinewidth\":0,\"ticks\":\"\"}}],\"contour\":[{\"type\":\"contour\",\"colorbar\":{\"outlinewidth\":0,\"ticks\":\"\"},\"colorscale\":[[0.0,\"#0d0887\"],[0.1111111111111111,\"#46039f\"],[0.2222222222222222,\"#7201a8\"],[0.3333333333333333,\"#9c179e\"],[0.4444444444444444,\"#bd3786\"],[0.5555555555555556,\"#d8576b\"],[0.6666666666666666,\"#ed7953\"],[0.7777777777777778,\"#fb9f3a\"],[0.8888888888888888,\"#fdca26\"],[1.0,\"#f0f921\"]]}],\"surface\":[{\"type\":\"surface\",\"colorbar\":{\"outlinewidth\":0,\"ticks\":\"\"},\"colorscale\":[[0.0,\"#0d0887\"],[0.1111111111111111,\"#46039f\"],[0.2222222222222222,\"#7201a8\"],[0.3333333333333333,\"#9c179e\"],[0.4444444444444444,\"#bd3786\"],[0.5555555555555556,\"#d8576b\"],[0.6666666666666666,\"#ed7953\"],[0.7777777777777778,\"#fb9f3a\"],[0.8888888888888888,\"#fdca26\"],[1.0,\"#f0f921\"]]}],\"mesh3d\":[{\"type\":\"mesh3d\",\"colorbar\":{\"outlinewidth\":0,\"ticks\":\"\"}}],\"scatter\":[{\"fillpattern\":{\"fillmode\":\"overlay\",\"size\":10,\"solidity\":0.2},\"type\":\"scatter\"}],\"parcoords\":[{\"type\":\"parcoords\",\"line\":{\"colorbar\":{\"outlinewidth\":0,\"ticks\":\"\"}}}],\"scatterpolargl\":[{\"type\":\"scatterpolargl\",\"marker\":{\"colorbar\":{\"outlinewidth\":0,\"ticks\":\"\"}}}],\"bar\":[{\"error_x\":{\"color\":\"#2a3f5f\"},\"error_y\":{\"color\":\"#2a3f5f\"},\"marker\":{\"line\":{\"color\":\"#E5ECF6\",\"width\":0.5},\"pattern\":{\"fillmode\":\"overlay\",\"size\":10,\"solidity\":0.2}},\"type\":\"bar\"}],\"scattergeo\":[{\"type\":\"scattergeo\",\"marker\":{\"colorbar\":{\"outlinewidth\":0,\"ticks\":\"\"}}}],\"scatterpolar\":[{\"type\":\"scatterpolar\",\"marker\":{\"colorbar\":{\"outlinewidth\":0,\"ticks\":\"\"}}}],\"histogram\":[{\"marker\":{\"pattern\":{\"fillmode\":\"overlay\",\"size\":10,\"solidity\":0.2}},\"type\":\"histogram\"}],\"scattergl\":[{\"type\":\"scattergl\",\"marker\":{\"colorbar\":{\"outlinewidth\":0,\"ticks\":\"\"}}}],\"scatter3d\":[{\"type\":\"scatter3d\",\"line\":{\"colorbar\":{\"outlinewidth\":0,\"ticks\":\"\"}},\"marker\":{\"colorbar\":{\"outlinewidth\":0,\"ticks\":\"\"}}}],\"scattermapbox\":[{\"type\":\"scattermapbox\",\"marker\":{\"colorbar\":{\"outlinewidth\":0,\"ticks\":\"\"}}}],\"scatterternary\":[{\"type\":\"scatterternary\",\"marker\":{\"colorbar\":{\"outlinewidth\":0,\"ticks\":\"\"}}}],\"scattercarpet\":[{\"type\":\"scattercarpet\",\"marker\":{\"colorbar\":{\"outlinewidth\":0,\"ticks\":\"\"}}}],\"carpet\":[{\"aaxis\":{\"endlinecolor\":\"#2a3f5f\",\"gridcolor\":\"white\",\"linecolor\":\"white\",\"minorgridcolor\":\"white\",\"startlinecolor\":\"#2a3f5f\"},\"baxis\":{\"endlinecolor\":\"#2a3f5f\",\"gridcolor\":\"white\",\"linecolor\":\"white\",\"minorgridcolor\":\"white\",\"startlinecolor\":\"#2a3f5f\"},\"type\":\"carpet\"}],\"table\":[{\"cells\":{\"fill\":{\"color\":\"#EBF0F8\"},\"line\":{\"color\":\"white\"}},\"header\":{\"fill\":{\"color\":\"#C8D4E3\"},\"line\":{\"color\":\"white\"}},\"type\":\"table\"}],\"barpolar\":[{\"marker\":{\"line\":{\"color\":\"#E5ECF6\",\"width\":0.5},\"pattern\":{\"fillmode\":\"overlay\",\"size\":10,\"solidity\":0.2}},\"type\":\"barpolar\"}],\"pie\":[{\"automargin\":true,\"type\":\"pie\"}]},\"layout\":{\"autotypenumbers\":\"strict\",\"colorway\":[\"#636efa\",\"#EF553B\",\"#00cc96\",\"#ab63fa\",\"#FFA15A\",\"#19d3f3\",\"#FF6692\",\"#B6E880\",\"#FF97FF\",\"#FECB52\"],\"font\":{\"color\":\"#2a3f5f\"},\"hovermode\":\"closest\",\"hoverlabel\":{\"align\":\"left\"},\"paper_bgcolor\":\"white\",\"plot_bgcolor\":\"#E5ECF6\",\"polar\":{\"bgcolor\":\"#E5ECF6\",\"angularaxis\":{\"gridcolor\":\"white\",\"linecolor\":\"white\",\"ticks\":\"\"},\"radialaxis\":{\"gridcolor\":\"white\",\"linecolor\":\"white\",\"ticks\":\"\"}},\"ternary\":{\"bgcolor\":\"#E5ECF6\",\"aaxis\":{\"gridcolor\":\"white\",\"linecolor\":\"white\",\"ticks\":\"\"},\"baxis\":{\"gridcolor\":\"white\",\"linecolor\":\"white\",\"ticks\":\"\"},\"caxis\":{\"gridcolor\":\"white\",\"linecolor\":\"white\",\"ticks\":\"\"}},\"coloraxis\":{\"colorbar\":{\"outlinewidth\":0,\"ticks\":\"\"}},\"colorscale\":{\"sequential\":[[0.0,\"#0d0887\"],[0.1111111111111111,\"#46039f\"],[0.2222222222222222,\"#7201a8\"],[0.3333333333333333,\"#9c179e\"],[0.4444444444444444,\"#bd3786\"],[0.5555555555555556,\"#d8576b\"],[0.6666666666666666,\"#ed7953\"],[0.7777777777777778,\"#fb9f3a\"],[0.8888888888888888,\"#fdca26\"],[1.0,\"#f0f921\"]],\"sequentialminus\":[[0.0,\"#0d0887\"],[0.1111111111111111,\"#46039f\"],[0.2222222222222222,\"#7201a8\"],[0.3333333333333333,\"#9c179e\"],[0.4444444444444444,\"#bd3786\"],[0.5555555555555556,\"#d8576b\"],[0.6666666666666666,\"#ed7953\"],[0.7777777777777778,\"#fb9f3a\"],[0.8888888888888888,\"#fdca26\"],[1.0,\"#f0f921\"]],\"diverging\":[[0,\"#8e0152\"],[0.1,\"#c51b7d\"],[0.2,\"#de77ae\"],[0.3,\"#f1b6da\"],[0.4,\"#fde0ef\"],[0.5,\"#f7f7f7\"],[0.6,\"#e6f5d0\"],[0.7,\"#b8e186\"],[0.8,\"#7fbc41\"],[0.9,\"#4d9221\"],[1,\"#276419\"]]},\"xaxis\":{\"gridcolor\":\"white\",\"linecolor\":\"white\",\"ticks\":\"\",\"title\":{\"standoff\":15},\"zerolinecolor\":\"white\",\"automargin\":true,\"zerolinewidth\":2},\"yaxis\":{\"gridcolor\":\"white\",\"linecolor\":\"white\",\"ticks\":\"\",\"title\":{\"standoff\":15},\"zerolinecolor\":\"white\",\"automargin\":true,\"zerolinewidth\":2},\"scene\":{\"xaxis\":{\"backgroundcolor\":\"#E5ECF6\",\"gridcolor\":\"white\",\"linecolor\":\"white\",\"showbackground\":true,\"ticks\":\"\",\"zerolinecolor\":\"white\",\"gridwidth\":2},\"yaxis\":{\"backgroundcolor\":\"#E5ECF6\",\"gridcolor\":\"white\",\"linecolor\":\"white\",\"showbackground\":true,\"ticks\":\"\",\"zerolinecolor\":\"white\",\"gridwidth\":2},\"zaxis\":{\"backgroundcolor\":\"#E5ECF6\",\"gridcolor\":\"white\",\"linecolor\":\"white\",\"showbackground\":true,\"ticks\":\"\",\"zerolinecolor\":\"white\",\"gridwidth\":2}},\"shapedefaults\":{\"line\":{\"color\":\"#2a3f5f\"}},\"annotationdefaults\":{\"arrowcolor\":\"#2a3f5f\",\"arrowhead\":0,\"arrowwidth\":1},\"geo\":{\"bgcolor\":\"white\",\"landcolor\":\"#E5ECF6\",\"subunitcolor\":\"white\",\"showland\":true,\"showlakes\":true,\"lakecolor\":\"white\"},\"title\":{\"x\":0.05},\"mapbox\":{\"style\":\"light\"}}},\"scene\":{\"domain\":{\"x\":[0.0,1.0],\"y\":[0.0,1.0]},\"xaxis\":{\"title\":{\"text\":\"feature1\"}},\"yaxis\":{\"title\":{\"text\":\"feature2\"}},\"zaxis\":{\"title\":{\"text\":\"target\"}}},\"legend\":{\"tracegroupgap\":0},\"margin\":{\"t\":60}},                        {\"responsive\": true}                    ).then(function(){\n",
       "                            \n",
       "var gd = document.getElementById('b8d565d4-9ee9-45d5-b341-182262f3cd26');\n",
       "var x = new MutationObserver(function (mutations, observer) {{\n",
       "        var display = window.getComputedStyle(gd).display;\n",
       "        if (!display || display === 'none') {{\n",
       "            console.log([gd, 'removed!']);\n",
       "            Plotly.purge(gd);\n",
       "            observer.disconnect();\n",
       "        }}\n",
       "}});\n",
       "\n",
       "// Listen for the removal of the full notebook cells\n",
       "var notebookContainer = gd.closest('#notebook-container');\n",
       "if (notebookContainer) {{\n",
       "    x.observe(notebookContainer, {childList: true});\n",
       "}}\n",
       "\n",
       "// Listen for the clearing of the current output cell\n",
       "var outputEl = gd.closest('.output');\n",
       "if (outputEl) {{\n",
       "    x.observe(outputEl, {childList: true});\n",
       "}}\n",
       "\n",
       "                        })                };                });            </script>        </div>"
      ]
     },
     "metadata": {},
     "output_type": "display_data"
    }
   ],
   "source": [
    "fig = px.scatter_3d(df, x='feature1', y='feature2', z='target')\n",
    "\n",
    "# Add the surface plot (ensure x, y, z are in grid format for Surface)\n",
    "fig.add_trace(go.Surface(x=xGrid, y=yGrid, z=z, colorscale='Viridis', opacity=0.5))\n",
    "\n",
    "# Show the plot\n",
    "fig.show()"
   ]
  },
  {
   "cell_type": "code",
   "execution_count": 19,
   "id": "f6ac90bf-007d-4fde-aff1-f4691b006bbd",
   "metadata": {},
   "outputs": [
    {
     "data": {
      "text/plain": [
       "array([46.44227752, 66.73194557])"
      ]
     },
     "execution_count": 19,
     "metadata": {},
     "output_type": "execute_result"
    }
   ],
   "source": [
    "lr.coef_"
   ]
  },
  {
   "cell_type": "code",
   "execution_count": 20,
   "id": "b43bddd6-7e27-43c1-af30-237984fab6ab",
   "metadata": {},
   "outputs": [
    {
     "data": {
      "text/plain": [
       "-5.488858070859104"
      ]
     },
     "execution_count": 20,
     "metadata": {},
     "output_type": "execute_result"
    }
   ],
   "source": [
    "lr.intercept_"
   ]
  },
  {
   "cell_type": "code",
   "execution_count": null,
   "id": "f665bb59-a5bf-4439-874c-54616a4b624d",
   "metadata": {},
   "outputs": [],
   "source": []
  }
 ],
 "metadata": {
  "kernelspec": {
   "display_name": "Python 3",
   "language": "python",
   "name": "python3"
  },
  "language_info": {
   "codemirror_mode": {
    "name": "ipython",
    "version": 3
   },
   "file_extension": ".py",
   "mimetype": "text/x-python",
   "name": "python",
   "nbconvert_exporter": "python",
   "pygments_lexer": "ipython3",
   "version": "3.11.5"
  }
 },
 "nbformat": 4,
 "nbformat_minor": 5
}
