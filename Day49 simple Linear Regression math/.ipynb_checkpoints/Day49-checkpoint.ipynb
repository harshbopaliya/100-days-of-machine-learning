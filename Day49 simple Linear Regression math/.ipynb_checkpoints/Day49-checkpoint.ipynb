{
 "cells": [
  {
   "cell_type": "code",
   "execution_count": 3,
   "id": "4cbc4ad4-a1bb-4fab-9406-1b1859784fd4",
   "metadata": {},
   "outputs": [],
   "source": [
    "# closed form solution , non closed form solution\n",
    "# ols -> ordinary least square"
   ]
  },
  {
   "cell_type": "code",
   "execution_count": 5,
   "id": "c4df3276-d255-4ffe-b387-2cdb44f90bb7",
   "metadata": {},
   "outputs": [],
   "source": [
    "# gradient descent "
   ]
  },
  {
   "cell_type": "code",
   "execution_count": 27,
   "id": "9a896cc5-07db-49c1-bb91-11492924c2d4",
   "metadata": {},
   "outputs": [],
   "source": [
    "class MeraLR:\n",
    "    def __init__(self):\n",
    "        self.m=None\n",
    "        self.b=None\n",
    "\n",
    "    def fit(self,X_train,y_train):\n",
    "        num = 0\n",
    "        den = 0\n",
    "        X_mean = X_train.mean()\n",
    "        y_mean = y_train.mean()\n",
    "        \n",
    "        for i in range(X_train.shape[0]):\n",
    "           num += (X_train[i] - X_mean) * (y_train[i] - y_mean)\n",
    "           den += (X_train[i] - X_mean) ** 2\n",
    "\n",
    "      \n",
    "        self.m = num / den\n",
    "        self.b = y_mean - (self.m * X_mean)\n",
    "        \n",
    "        print('Slope (m) is =', self.m)\n",
    "        print('Intercept (b) is =', self.b)\n",
    "           \n",
    "        \n",
    "    def predict(self, X_test):\n",
    "        return self.m * X_test + self.b"
   ]
  },
  {
   "cell_type": "code",
   "execution_count": 33,
   "id": "23070770-b20b-477c-8290-c2c0f54ba18e",
   "metadata": {},
   "outputs": [],
   "source": [
    "import numpy as np \n",
    "import pandas as pd"
   ]
  },
  {
   "cell_type": "code",
   "execution_count": 34,
   "id": "73dd1b9e-5404-4f67-b30e-00274cd69ccb",
   "metadata": {},
   "outputs": [],
   "source": [
    "df = pd.read_csv('placement.csv')"
   ]
  },
  {
   "cell_type": "code",
   "execution_count": 35,
   "id": "f28728c9-1ae6-4235-a0b0-2187c5d03770",
   "metadata": {},
   "outputs": [],
   "source": [
    "X = df.iloc[:,0].values\n",
    "y = df.iloc[:,1].values"
   ]
  },
  {
   "cell_type": "code",
   "execution_count": 36,
   "id": "8ba8909e-fc50-4311-8eca-dc2b73c6e3ad",
   "metadata": {},
   "outputs": [],
   "source": [
    "from sklearn.model_selection import train_test_split\n",
    "X_train , X_test,y_train , y_test = train_test_split(X,y,test_size=0.2,random_state=2)"
   ]
  },
  {
   "cell_type": "code",
   "execution_count": 37,
   "id": "44f209d5-f6ff-4066-a9c4-0774af9d0be2",
   "metadata": {},
   "outputs": [
    {
     "data": {
      "text/plain": [
       "(160,)"
      ]
     },
     "execution_count": 37,
     "metadata": {},
     "output_type": "execute_result"
    }
   ],
   "source": [
    "X_train.shape"
   ]
  },
  {
   "cell_type": "code",
   "execution_count": 28,
   "id": "29cd4e25-b4b1-4055-8caa-198f64bb362e",
   "metadata": {},
   "outputs": [],
   "source": [
    "lr = MeraLR()"
   ]
  },
  {
   "cell_type": "code",
   "execution_count": 29,
   "id": "bcd2f0f2-6c5f-4d8c-964c-fc8dfa1f08cd",
   "metadata": {},
   "outputs": [
    {
     "name": "stdout",
     "output_type": "stream",
     "text": [
      "Slope (m) is = 0.5579519734250721\n",
      "Intercept (b) is = -0.8961119222429152\n"
     ]
    }
   ],
   "source": [
    "lr.fit(X_train,y_train)"
   ]
  },
  {
   "cell_type": "code",
   "execution_count": 30,
   "id": "2509ce78-03b1-4444-962e-4bcfb93f15d5",
   "metadata": {},
   "outputs": [
    {
     "data": {
      "text/plain": [
       "array([3.89111601, 3.09324469, 2.38464568, 2.57434935, 1.6537286 ,\n",
       "       1.77647803, 2.07219258, 2.93143862, 3.76278706, 2.93701814,\n",
       "       4.09197872, 3.51170867, 2.97049525, 2.40138424, 3.18809652,\n",
       "       3.46707251, 1.94386362, 3.24389172, 2.97607477, 3.41685683,\n",
       "       2.55761079, 3.16577844, 2.85890486, 3.12114229, 3.68467378,\n",
       "       2.8700639 , 3.49497011, 3.34432308, 3.91901361, 1.96060218,\n",
       "       3.65119666, 3.2104146 , 3.74046898, 2.7863711 , 2.78079158,\n",
       "       3.27178932, 3.52844723, 2.61340599, 2.65804215, 2.71383735])"
      ]
     },
     "execution_count": 30,
     "metadata": {},
     "output_type": "execute_result"
    }
   ],
   "source": [
    "lr.predict(X_test)"
   ]
  },
  {
   "cell_type": "code",
   "execution_count": null,
   "id": "63ca31ad-df3a-47d7-b652-53b929ee2845",
   "metadata": {},
   "outputs": [],
   "source": []
  },
  {
   "cell_type": "code",
   "execution_count": null,
   "id": "0efe28a1-de9e-4a22-bf23-a582f48f9fe5",
   "metadata": {},
   "outputs": [],
   "source": []
  },
  {
   "cell_type": "code",
   "execution_count": null,
   "id": "2ac40873-d40c-431a-a2fd-e58d0034795e",
   "metadata": {},
   "outputs": [],
   "source": []
  }
 ],
 "metadata": {
  "kernelspec": {
   "display_name": "harshkernel",
   "language": "python",
   "name": "harshkernel"
  },
  "language_info": {
   "codemirror_mode": {
    "name": "ipython",
    "version": 3
   },
   "file_extension": ".py",
   "mimetype": "text/x-python",
   "name": "python",
   "nbconvert_exporter": "python",
   "pygments_lexer": "ipython3",
   "version": "3.11.5"
  }
 },
 "nbformat": 4,
 "nbformat_minor": 5
}
